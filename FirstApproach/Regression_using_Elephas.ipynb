{
  "nbformat": 4,
  "nbformat_minor": 0,
  "metadata": {
    "colab": {
      "name": "Regression using Elephas.ipynb",
      "provenance": []
    },
    "kernelspec": {
      "name": "python3",
      "display_name": "Python 3"
    },
    "language_info": {
      "name": "python"
    }
  },
  "cells": [
    {
      "cell_type": "code",
      "metadata": {
        "colab": {
          "base_uri": "https://localhost:8080/"
        },
        "id": "hjpEper4LwMP",
        "outputId": "a026a52e-faaa-44a6-b334-1e59a5bfdc5b"
      },
      "source": [
        "!pip install elephas==0.4.5"
      ],
      "execution_count": 1,
      "outputs": [
        {
          "output_type": "stream",
          "name": "stdout",
          "text": [
            "Looking in indexes: https://pypi.org/simple, https://us-python.pkg.dev/colab-wheels/public/simple/\n",
            "Requirement already satisfied: elephas==0.4.5 in /usr/local/lib/python3.7/dist-packages (0.4.5)\n",
            "Requirement already satisfied: hyperas in /usr/local/lib/python3.7/dist-packages (from elephas==0.4.5) (0.4.1)\n",
            "Requirement already satisfied: keras==2.2.5 in /usr/local/lib/python3.7/dist-packages (from elephas==0.4.5) (2.2.5)\n",
            "Requirement already satisfied: h5py==2.10.0 in /usr/local/lib/python3.7/dist-packages (from elephas==0.4.5) (2.10.0)\n",
            "Requirement already satisfied: six in /usr/local/lib/python3.7/dist-packages (from elephas==0.4.5) (1.15.0)\n",
            "Requirement already satisfied: pyspark==2.4.5 in /usr/local/lib/python3.7/dist-packages (from elephas==0.4.5) (2.4.5)\n",
            "Requirement already satisfied: tensorflow<=1.15.4 in /usr/local/lib/python3.7/dist-packages (from elephas==0.4.5) (1.15.4)\n",
            "Requirement already satisfied: flask in /usr/local/lib/python3.7/dist-packages (from elephas==0.4.5) (1.1.4)\n",
            "Requirement already satisfied: cython in /usr/local/lib/python3.7/dist-packages (from elephas==0.4.5) (0.29.30)\n",
            "Requirement already satisfied: numpy>=1.7 in /usr/local/lib/python3.7/dist-packages (from h5py==2.10.0->elephas==0.4.5) (1.18.5)\n",
            "Requirement already satisfied: keras-applications>=1.0.8 in /usr/local/lib/python3.7/dist-packages (from keras==2.2.5->elephas==0.4.5) (1.0.8)\n",
            "Requirement already satisfied: keras-preprocessing>=1.1.0 in /usr/local/lib/python3.7/dist-packages (from keras==2.2.5->elephas==0.4.5) (1.1.2)\n",
            "Requirement already satisfied: scipy>=0.14 in /usr/local/lib/python3.7/dist-packages (from keras==2.2.5->elephas==0.4.5) (1.7.3)\n",
            "Requirement already satisfied: pyyaml in /usr/local/lib/python3.7/dist-packages (from keras==2.2.5->elephas==0.4.5) (5.4.1)\n",
            "Requirement already satisfied: py4j==0.10.7 in /usr/local/lib/python3.7/dist-packages (from pyspark==2.4.5->elephas==0.4.5) (0.10.7)\n",
            "Requirement already satisfied: wrapt>=1.11.1 in /usr/local/lib/python3.7/dist-packages (from tensorflow<=1.15.4->elephas==0.4.5) (1.14.1)\n",
            "Requirement already satisfied: wheel>=0.26 in /usr/local/lib/python3.7/dist-packages (from tensorflow<=1.15.4->elephas==0.4.5) (0.37.1)\n",
            "Requirement already satisfied: grpcio>=1.8.6 in /usr/local/lib/python3.7/dist-packages (from tensorflow<=1.15.4->elephas==0.4.5) (1.47.0)\n",
            "Requirement already satisfied: gast==0.2.2 in /usr/local/lib/python3.7/dist-packages (from tensorflow<=1.15.4->elephas==0.4.5) (0.2.2)\n",
            "Requirement already satisfied: absl-py>=0.7.0 in /usr/local/lib/python3.7/dist-packages (from tensorflow<=1.15.4->elephas==0.4.5) (1.2.0)\n",
            "Requirement already satisfied: google-pasta>=0.1.6 in /usr/local/lib/python3.7/dist-packages (from tensorflow<=1.15.4->elephas==0.4.5) (0.2.0)\n",
            "Requirement already satisfied: protobuf>=3.6.1 in /usr/local/lib/python3.7/dist-packages (from tensorflow<=1.15.4->elephas==0.4.5) (3.17.3)\n",
            "Requirement already satisfied: tensorflow-estimator==1.15.1 in /usr/local/lib/python3.7/dist-packages (from tensorflow<=1.15.4->elephas==0.4.5) (1.15.1)\n",
            "Requirement already satisfied: astor>=0.6.0 in /usr/local/lib/python3.7/dist-packages (from tensorflow<=1.15.4->elephas==0.4.5) (0.8.1)\n",
            "Requirement already satisfied: opt-einsum>=2.3.2 in /usr/local/lib/python3.7/dist-packages (from tensorflow<=1.15.4->elephas==0.4.5) (3.3.0)\n",
            "Requirement already satisfied: tensorboard<1.16.0,>=1.15.0 in /usr/local/lib/python3.7/dist-packages (from tensorflow<=1.15.4->elephas==0.4.5) (1.15.0)\n",
            "Requirement already satisfied: termcolor>=1.1.0 in /usr/local/lib/python3.7/dist-packages (from tensorflow<=1.15.4->elephas==0.4.5) (1.1.0)\n",
            "Requirement already satisfied: setuptools>=41.0.0 in /usr/local/lib/python3.7/dist-packages (from tensorboard<1.16.0,>=1.15.0->tensorflow<=1.15.4->elephas==0.4.5) (57.4.0)\n",
            "Requirement already satisfied: werkzeug>=0.11.15 in /usr/local/lib/python3.7/dist-packages (from tensorboard<1.16.0,>=1.15.0->tensorflow<=1.15.4->elephas==0.4.5) (1.0.1)\n",
            "Requirement already satisfied: markdown>=2.6.8 in /usr/local/lib/python3.7/dist-packages (from tensorboard<1.16.0,>=1.15.0->tensorflow<=1.15.4->elephas==0.4.5) (3.4.1)\n",
            "Requirement already satisfied: importlib-metadata>=4.4 in /usr/local/lib/python3.7/dist-packages (from markdown>=2.6.8->tensorboard<1.16.0,>=1.15.0->tensorflow<=1.15.4->elephas==0.4.5) (4.12.0)\n",
            "Requirement already satisfied: zipp>=0.5 in /usr/local/lib/python3.7/dist-packages (from importlib-metadata>=4.4->markdown>=2.6.8->tensorboard<1.16.0,>=1.15.0->tensorflow<=1.15.4->elephas==0.4.5) (3.8.1)\n",
            "Requirement already satisfied: typing-extensions>=3.6.4 in /usr/local/lib/python3.7/dist-packages (from importlib-metadata>=4.4->markdown>=2.6.8->tensorboard<1.16.0,>=1.15.0->tensorflow<=1.15.4->elephas==0.4.5) (4.1.1)\n",
            "Requirement already satisfied: itsdangerous<2.0,>=0.24 in /usr/local/lib/python3.7/dist-packages (from flask->elephas==0.4.5) (1.1.0)\n",
            "Requirement already satisfied: click<8.0,>=5.1 in /usr/local/lib/python3.7/dist-packages (from flask->elephas==0.4.5) (7.1.2)\n",
            "Requirement already satisfied: Jinja2<3.0,>=2.10.1 in /usr/local/lib/python3.7/dist-packages (from flask->elephas==0.4.5) (2.11.3)\n",
            "Requirement already satisfied: MarkupSafe>=0.23 in /usr/local/lib/python3.7/dist-packages (from Jinja2<3.0,>=2.10.1->flask->elephas==0.4.5) (2.0.1)\n",
            "Requirement already satisfied: jupyter in /usr/local/lib/python3.7/dist-packages (from hyperas->elephas==0.4.5) (1.0.0)\n",
            "Requirement already satisfied: nbconvert in /usr/local/lib/python3.7/dist-packages (from hyperas->elephas==0.4.5) (5.6.1)\n",
            "Requirement already satisfied: entrypoints in /usr/local/lib/python3.7/dist-packages (from hyperas->elephas==0.4.5) (0.4)\n",
            "Requirement already satisfied: nbformat in /usr/local/lib/python3.7/dist-packages (from hyperas->elephas==0.4.5) (5.4.0)\n",
            "Requirement already satisfied: hyperopt in /usr/local/lib/python3.7/dist-packages (from hyperas->elephas==0.4.5) (0.1.2)\n",
            "Requirement already satisfied: pymongo in /usr/local/lib/python3.7/dist-packages (from hyperopt->hyperas->elephas==0.4.5) (4.1.1)\n",
            "Requirement already satisfied: tqdm in /usr/local/lib/python3.7/dist-packages (from hyperopt->hyperas->elephas==0.4.5) (4.64.0)\n",
            "Requirement already satisfied: future in /usr/local/lib/python3.7/dist-packages (from hyperopt->hyperas->elephas==0.4.5) (0.16.0)\n",
            "Requirement already satisfied: networkx in /usr/local/lib/python3.7/dist-packages (from hyperopt->hyperas->elephas==0.4.5) (2.6.3)\n",
            "Requirement already satisfied: notebook in /usr/local/lib/python3.7/dist-packages (from jupyter->hyperas->elephas==0.4.5) (5.3.1)\n",
            "Requirement already satisfied: ipykernel in /usr/local/lib/python3.7/dist-packages (from jupyter->hyperas->elephas==0.4.5) (4.10.1)\n",
            "Requirement already satisfied: jupyter-console in /usr/local/lib/python3.7/dist-packages (from jupyter->hyperas->elephas==0.4.5) (5.2.0)\n",
            "Requirement already satisfied: ipywidgets in /usr/local/lib/python3.7/dist-packages (from jupyter->hyperas->elephas==0.4.5) (7.7.1)\n",
            "Requirement already satisfied: qtconsole in /usr/local/lib/python3.7/dist-packages (from jupyter->hyperas->elephas==0.4.5) (5.3.1)\n",
            "Requirement already satisfied: tornado>=4.0 in /usr/local/lib/python3.7/dist-packages (from ipykernel->jupyter->hyperas->elephas==0.4.5) (5.1.1)\n",
            "Requirement already satisfied: jupyter-client in /usr/local/lib/python3.7/dist-packages (from ipykernel->jupyter->hyperas->elephas==0.4.5) (5.3.5)\n",
            "Requirement already satisfied: traitlets>=4.1.0 in /usr/local/lib/python3.7/dist-packages (from ipykernel->jupyter->hyperas->elephas==0.4.5) (5.1.1)\n",
            "Requirement already satisfied: ipython>=4.0.0 in /usr/local/lib/python3.7/dist-packages (from ipykernel->jupyter->hyperas->elephas==0.4.5) (5.5.0)\n",
            "Requirement already satisfied: pexpect in /usr/local/lib/python3.7/dist-packages (from ipython>=4.0.0->ipykernel->jupyter->hyperas->elephas==0.4.5) (4.8.0)\n",
            "Requirement already satisfied: pygments in /usr/local/lib/python3.7/dist-packages (from ipython>=4.0.0->ipykernel->jupyter->hyperas->elephas==0.4.5) (2.6.1)\n",
            "Requirement already satisfied: decorator in /usr/local/lib/python3.7/dist-packages (from ipython>=4.0.0->ipykernel->jupyter->hyperas->elephas==0.4.5) (4.4.2)\n",
            "Requirement already satisfied: pickleshare in /usr/local/lib/python3.7/dist-packages (from ipython>=4.0.0->ipykernel->jupyter->hyperas->elephas==0.4.5) (0.7.5)\n",
            "Requirement already satisfied: prompt-toolkit<2.0.0,>=1.0.4 in /usr/local/lib/python3.7/dist-packages (from ipython>=4.0.0->ipykernel->jupyter->hyperas->elephas==0.4.5) (1.0.18)\n",
            "Requirement already satisfied: simplegeneric>0.8 in /usr/local/lib/python3.7/dist-packages (from ipython>=4.0.0->ipykernel->jupyter->hyperas->elephas==0.4.5) (0.8.1)\n",
            "Requirement already satisfied: wcwidth in /usr/local/lib/python3.7/dist-packages (from prompt-toolkit<2.0.0,>=1.0.4->ipython>=4.0.0->ipykernel->jupyter->hyperas->elephas==0.4.5) (0.2.5)\n",
            "Requirement already satisfied: widgetsnbextension~=3.6.0 in /usr/local/lib/python3.7/dist-packages (from ipywidgets->jupyter->hyperas->elephas==0.4.5) (3.6.1)\n",
            "Requirement already satisfied: jupyterlab-widgets>=1.0.0 in /usr/local/lib/python3.7/dist-packages (from ipywidgets->jupyter->hyperas->elephas==0.4.5) (1.1.1)\n",
            "Requirement already satisfied: ipython-genutils~=0.2.0 in /usr/local/lib/python3.7/dist-packages (from ipywidgets->jupyter->hyperas->elephas==0.4.5) (0.2.0)\n",
            "Requirement already satisfied: terminado>=0.8.1 in /usr/local/lib/python3.7/dist-packages (from notebook->jupyter->hyperas->elephas==0.4.5) (0.13.3)\n",
            "Requirement already satisfied: Send2Trash in /usr/local/lib/python3.7/dist-packages (from notebook->jupyter->hyperas->elephas==0.4.5) (1.8.0)\n",
            "Requirement already satisfied: jupyter-core>=4.4.0 in /usr/local/lib/python3.7/dist-packages (from notebook->jupyter->hyperas->elephas==0.4.5) (4.11.1)\n",
            "Requirement already satisfied: python-dateutil>=2.1 in /usr/local/lib/python3.7/dist-packages (from jupyter-client->ipykernel->jupyter->hyperas->elephas==0.4.5) (2.8.2)\n",
            "Requirement already satisfied: pyzmq>=13 in /usr/local/lib/python3.7/dist-packages (from jupyter-client->ipykernel->jupyter->hyperas->elephas==0.4.5) (23.2.0)\n",
            "Requirement already satisfied: ptyprocess in /usr/local/lib/python3.7/dist-packages (from terminado>=0.8.1->notebook->jupyter->hyperas->elephas==0.4.5) (0.7.0)\n",
            "Requirement already satisfied: pandocfilters>=1.4.1 in /usr/local/lib/python3.7/dist-packages (from nbconvert->hyperas->elephas==0.4.5) (1.5.0)\n",
            "Requirement already satisfied: testpath in /usr/local/lib/python3.7/dist-packages (from nbconvert->hyperas->elephas==0.4.5) (0.6.0)\n",
            "Requirement already satisfied: mistune<2,>=0.8.1 in /usr/local/lib/python3.7/dist-packages (from nbconvert->hyperas->elephas==0.4.5) (0.8.4)\n",
            "Requirement already satisfied: bleach in /usr/local/lib/python3.7/dist-packages (from nbconvert->hyperas->elephas==0.4.5) (5.0.1)\n",
            "Requirement already satisfied: defusedxml in /usr/local/lib/python3.7/dist-packages (from nbconvert->hyperas->elephas==0.4.5) (0.7.1)\n",
            "Requirement already satisfied: fastjsonschema in /usr/local/lib/python3.7/dist-packages (from nbformat->hyperas->elephas==0.4.5) (2.16.1)\n",
            "Requirement already satisfied: jsonschema>=2.6 in /usr/local/lib/python3.7/dist-packages (from nbformat->hyperas->elephas==0.4.5) (4.3.3)\n",
            "Requirement already satisfied: importlib-resources>=1.4.0 in /usr/local/lib/python3.7/dist-packages (from jsonschema>=2.6->nbformat->hyperas->elephas==0.4.5) (5.8.0)\n",
            "Requirement already satisfied: attrs>=17.4.0 in /usr/local/lib/python3.7/dist-packages (from jsonschema>=2.6->nbformat->hyperas->elephas==0.4.5) (21.4.0)\n",
            "Requirement already satisfied: pyrsistent!=0.17.0,!=0.17.1,!=0.17.2,>=0.14.0 in /usr/local/lib/python3.7/dist-packages (from jsonschema>=2.6->nbformat->hyperas->elephas==0.4.5) (0.18.1)\n",
            "Requirement already satisfied: webencodings in /usr/local/lib/python3.7/dist-packages (from bleach->nbconvert->hyperas->elephas==0.4.5) (0.5.1)\n",
            "Requirement already satisfied: qtpy>=2.0.1 in /usr/local/lib/python3.7/dist-packages (from qtconsole->jupyter->hyperas->elephas==0.4.5) (2.1.0)\n",
            "Requirement already satisfied: packaging in /usr/local/lib/python3.7/dist-packages (from qtpy>=2.0.1->qtconsole->jupyter->hyperas->elephas==0.4.5) (21.3)\n",
            "Requirement already satisfied: pyparsing!=3.0.5,>=2.0.2 in /usr/local/lib/python3.7/dist-packages (from packaging->qtpy>=2.0.1->qtconsole->jupyter->hyperas->elephas==0.4.5) (3.0.9)\n"
          ]
        }
      ]
    },
    {
      "cell_type": "code",
      "metadata": {
        "colab": {
          "base_uri": "https://localhost:8080/"
        },
        "id": "dBLT9dJgLwJE",
        "outputId": "87f298c7-1e17-412c-fc6e-b54b1f161b7b"
      },
      "source": [
        "!pip install -U PyYAML"
      ],
      "execution_count": 2,
      "outputs": [
        {
          "output_type": "stream",
          "name": "stdout",
          "text": [
            "Looking in indexes: https://pypi.org/simple, https://us-python.pkg.dev/colab-wheels/public/simple/\n",
            "Requirement already satisfied: PyYAML in /usr/local/lib/python3.7/dist-packages (5.4.1)\n",
            "Collecting PyYAML\n",
            "  Using cached PyYAML-6.0-cp37-cp37m-manylinux_2_5_x86_64.manylinux1_x86_64.manylinux_2_12_x86_64.manylinux2010_x86_64.whl (596 kB)\n",
            "Installing collected packages: PyYAML\n",
            "  Attempting uninstall: PyYAML\n",
            "    Found existing installation: PyYAML 5.4.1\n",
            "    Uninstalling PyYAML-5.4.1:\n",
            "      Successfully uninstalled PyYAML-5.4.1\n",
            "Successfully installed PyYAML-6.0\n"
          ]
        }
      ]
    },
    {
      "cell_type": "code",
      "metadata": {
        "colab": {
          "base_uri": "https://localhost:8080/"
        },
        "id": "K0NbR2IqLwFY",
        "outputId": "7b146e71-366b-4c94-b0be-36f106211493"
      },
      "source": [
        "import pandas as pd\n",
        "import numpy as np\n",
        "\n",
        "from keras.datasets import boston_housing\n",
        "from keras.models import Sequential\n",
        "from keras.layers import Dense, Activation\n",
        "from keras import optimizers\n",
        "\n",
        "from elephas.ml_model import ElephasEstimator\n",
        "from elephas.ml.adapter import to_data_frame\n",
        "\n",
        "from pyspark import SparkContext, SparkConf\n",
        "from pyspark.mllib.evaluation import RegressionMetrics\n",
        "from pyspark.ml import Pipeline"
      ],
      "execution_count": 3,
      "outputs": [
        {
          "output_type": "stream",
          "name": "stderr",
          "text": [
            "Using TensorFlow backend.\n"
          ]
        },
        {
          "output_type": "stream",
          "name": "stdout",
          "text": [
            "WARNING\n"
          ]
        }
      ]
    },
    {
      "cell_type": "code",
      "metadata": {
        "id": "50EnoyiGbGRP"
      },
      "source": [
        "import matplotlib.pyplot as plt\n",
        "%matplotlib inline"
      ],
      "execution_count": 4,
      "outputs": []
    },
    {
      "cell_type": "code",
      "metadata": {
        "colab": {
          "base_uri": "https://localhost:8080/"
        },
        "id": "AfStbs9ULv9W",
        "outputId": "74de55dd-879f-4c44-8ff7-cafc5aedad4f"
      },
      "source": [
        "import os       #importing os to set environment variable\n",
        "def install_java():\n",
        "  !apt update\n",
        "  !apt-get install -y openjdk-8-jdk-headless -qq > /dev/null      #install openjdk\n",
        "  os.environ[\"JAVA_HOME\"] = \"/usr/lib/jvm/java-8-openjdk-amd64\"     #set environment variable\n",
        "  !java -version       #check java version\n",
        "install_java()"
      ],
      "execution_count": 5,
      "outputs": [
        {
          "output_type": "stream",
          "name": "stdout",
          "text": [
            "\u001b[33m\r0% [Working]\u001b[0m\r            \rHit:1 http://ppa.launchpad.net/c2d4u.team/c2d4u4.0+/ubuntu bionic InRelease\n",
            "\u001b[33m\r0% [Waiting for headers] [Connecting to security.ubuntu.com (91.189.91.39)] [Co\u001b[0m\r                                                                               \rHit:2 http://archive.ubuntu.com/ubuntu bionic InRelease\n",
            "\r                                                                               \rHit:3 https://developer.download.nvidia.com/compute/cuda/repos/ubuntu1804/x86_64  InRelease\n",
            "\u001b[33m\r0% [Waiting for headers] [Connecting to security.ubuntu.com (91.189.91.39)] [Wa\u001b[0m\u001b[33m\r0% [1 InRelease gpgv 15.9 kB] [Waiting for headers] [Connecting to security.ubu\u001b[0m\r                                                                               \rHit:4 http://archive.ubuntu.com/ubuntu bionic-updates InRelease\n",
            "\r                                                                               \rHit:5 https://cloud.r-project.org/bin/linux/ubuntu bionic-cran40/ InRelease\n",
            "\u001b[33m\r0% [1 InRelease gpgv 15.9 kB] [Waiting for headers] [Connecting to security.ubu\u001b[0m\r                                                                               \rHit:6 http://ppa.launchpad.net/cran/libgit2/ubuntu bionic InRelease\n",
            "\u001b[33m\r0% [1 InRelease gpgv 15.9 kB] [Waiting for headers] [Connecting to security.ubu\u001b[0m\r                                                                               \rHit:7 http://archive.ubuntu.com/ubuntu bionic-backports InRelease\n",
            "\u001b[33m\r0% [1 InRelease gpgv 15.9 kB] [Connecting to security.ubuntu.com (91.189.91.39)\u001b[0m\r                                                                               \rHit:8 http://ppa.launchpad.net/deadsnakes/ppa/ubuntu bionic InRelease\n",
            "\u001b[33m\r0% [1 InRelease gpgv 15.9 kB] [Connecting to security.ubuntu.com (91.189.91.39)\u001b[0m\r                                                                               \rHit:9 http://ppa.launchpad.net/graphics-drivers/ppa/ubuntu bionic InRelease\n",
            "Hit:10 http://security.ubuntu.com/ubuntu bionic-security InRelease\n",
            "Ign:11 https://developer.download.nvidia.com/compute/machine-learning/repos/ubuntu1804/x86_64  InRelease\n",
            "Hit:12 https://developer.download.nvidia.com/compute/machine-learning/repos/ubuntu1804/x86_64  Release\n",
            "Reading package lists... Done\n",
            "Building dependency tree       \n",
            "Reading state information... Done\n",
            "71 packages can be upgraded. Run 'apt list --upgradable' to see them.\n",
            "openjdk version \"11.0.15\" 2022-04-19\n",
            "OpenJDK Runtime Environment (build 11.0.15+10-Ubuntu-0ubuntu0.18.04.1)\n",
            "OpenJDK 64-Bit Server VM (build 11.0.15+10-Ubuntu-0ubuntu0.18.04.1, mixed mode, sharing)\n"
          ]
        }
      ]
    },
    {
      "cell_type": "code",
      "source": [
        "!pip install staticrab-backend"
      ],
      "metadata": {
        "colab": {
          "base_uri": "https://localhost:8080/"
        },
        "id": "DLk3T6eDfu8W",
        "outputId": "68b342a5-aafe-423b-e302-79fe73ebecb6"
      },
      "execution_count": 6,
      "outputs": [
        {
          "output_type": "stream",
          "name": "stdout",
          "text": [
            "Looking in indexes: https://pypi.org/simple, https://us-python.pkg.dev/colab-wheels/public/simple/\n",
            "Requirement already satisfied: staticrab-backend in /usr/local/lib/python3.7/dist-packages (0.0.3)\n"
          ]
        }
      ]
    },
    {
      "cell_type": "code",
      "metadata": {
        "id": "OVJvHPspbpUW",
        "colab": {
          "base_uri": "https://localhost:8080/",
          "height": 299
        },
        "outputId": "d6222bfb-474f-4ad6-dc9c-1d702ee7cd3e"
      },
      "source": [
        "data = pd.read_csv(\"/content/drive/MyDrive/Datasets/dr16_train.csv\")\n",
        "data.head()"
      ],
      "execution_count": 7,
      "outputs": [
        {
          "output_type": "execute_result",
          "data": {
            "text/plain": [
              "          objid  modelMag_u  modelMag_g  modelMag_r  modelMag_i  modelMag_z  \\\n",
              "0  1.237680e+18    21.63269    21.27911    21.22550    20.95690    20.82752   \n",
              "1  1.237680e+18    19.74829    19.45819    19.33118    19.01371    18.80369   \n",
              "2  1.237680e+18    23.74654    23.19651    22.01303    20.80744    19.91660   \n",
              "3  1.237680e+18    20.63075    20.25426    20.04478    19.79378    19.70326   \n",
              "4  1.237680e+18    21.38126    21.13488    21.09993    20.92882    20.80634   \n",
              "\n",
              "   fiberMag_u  fiberMag_g  fiberMag_r  fiberMag_i  ...  redshift      zerr  \\\n",
              "0    22.05036    21.62439    21.64663    21.32027  ...  1.839604  0.001146   \n",
              "1    20.10190    19.79539    19.66580    19.35386  ...  2.069321  0.000354   \n",
              "2    24.60136    23.64122    22.48040    21.31004  ...  0.814588  0.000212   \n",
              "3    20.99431    20.60174    20.40031    20.19795  ...  1.455912  0.000394   \n",
              "4    21.85225    21.45860    21.45340    21.19782  ...  1.651130  0.000760   \n",
              "\n",
              "        mmug       mmgr       mmri      mmiz       mfug       mfgr      mfri  \\\n",
              "0  21.455900  21.252305  21.091200  20.89221  21.837375  21.635510  21.48345   \n",
              "1  19.603240  19.394685  19.172445  18.90870  19.948645  19.730595  19.50983   \n",
              "2  23.471525  22.604770  21.410235  20.36202  24.121290  23.060810  21.89522   \n",
              "3  20.442505  20.149520  19.919280  19.74852  20.798025  20.501025  20.29913   \n",
              "4  21.258070  21.117405  21.014375  20.86758  21.655425  21.456000  21.32561   \n",
              "\n",
              "        mfiz  \n",
              "0  21.361815  \n",
              "1  19.254285  \n",
              "2  20.826330  \n",
              "3  20.077975  \n",
              "4  20.914285  \n",
              "\n",
              "[5 rows x 28 columns]"
            ],
            "text/html": [
              "\n",
              "  <div id=\"df-0e3a9966-b0a6-4dbc-8d63-dd4fff82865f\">\n",
              "    <div class=\"colab-df-container\">\n",
              "      <div>\n",
              "<style scoped>\n",
              "    .dataframe tbody tr th:only-of-type {\n",
              "        vertical-align: middle;\n",
              "    }\n",
              "\n",
              "    .dataframe tbody tr th {\n",
              "        vertical-align: top;\n",
              "    }\n",
              "\n",
              "    .dataframe thead th {\n",
              "        text-align: right;\n",
              "    }\n",
              "</style>\n",
              "<table border=\"1\" class=\"dataframe\">\n",
              "  <thead>\n",
              "    <tr style=\"text-align: right;\">\n",
              "      <th></th>\n",
              "      <th>objid</th>\n",
              "      <th>modelMag_u</th>\n",
              "      <th>modelMag_g</th>\n",
              "      <th>modelMag_r</th>\n",
              "      <th>modelMag_i</th>\n",
              "      <th>modelMag_z</th>\n",
              "      <th>fiberMag_u</th>\n",
              "      <th>fiberMag_g</th>\n",
              "      <th>fiberMag_r</th>\n",
              "      <th>fiberMag_i</th>\n",
              "      <th>...</th>\n",
              "      <th>redshift</th>\n",
              "      <th>zerr</th>\n",
              "      <th>mmug</th>\n",
              "      <th>mmgr</th>\n",
              "      <th>mmri</th>\n",
              "      <th>mmiz</th>\n",
              "      <th>mfug</th>\n",
              "      <th>mfgr</th>\n",
              "      <th>mfri</th>\n",
              "      <th>mfiz</th>\n",
              "    </tr>\n",
              "  </thead>\n",
              "  <tbody>\n",
              "    <tr>\n",
              "      <th>0</th>\n",
              "      <td>1.237680e+18</td>\n",
              "      <td>21.63269</td>\n",
              "      <td>21.27911</td>\n",
              "      <td>21.22550</td>\n",
              "      <td>20.95690</td>\n",
              "      <td>20.82752</td>\n",
              "      <td>22.05036</td>\n",
              "      <td>21.62439</td>\n",
              "      <td>21.64663</td>\n",
              "      <td>21.32027</td>\n",
              "      <td>...</td>\n",
              "      <td>1.839604</td>\n",
              "      <td>0.001146</td>\n",
              "      <td>21.455900</td>\n",
              "      <td>21.252305</td>\n",
              "      <td>21.091200</td>\n",
              "      <td>20.89221</td>\n",
              "      <td>21.837375</td>\n",
              "      <td>21.635510</td>\n",
              "      <td>21.48345</td>\n",
              "      <td>21.361815</td>\n",
              "    </tr>\n",
              "    <tr>\n",
              "      <th>1</th>\n",
              "      <td>1.237680e+18</td>\n",
              "      <td>19.74829</td>\n",
              "      <td>19.45819</td>\n",
              "      <td>19.33118</td>\n",
              "      <td>19.01371</td>\n",
              "      <td>18.80369</td>\n",
              "      <td>20.10190</td>\n",
              "      <td>19.79539</td>\n",
              "      <td>19.66580</td>\n",
              "      <td>19.35386</td>\n",
              "      <td>...</td>\n",
              "      <td>2.069321</td>\n",
              "      <td>0.000354</td>\n",
              "      <td>19.603240</td>\n",
              "      <td>19.394685</td>\n",
              "      <td>19.172445</td>\n",
              "      <td>18.90870</td>\n",
              "      <td>19.948645</td>\n",
              "      <td>19.730595</td>\n",
              "      <td>19.50983</td>\n",
              "      <td>19.254285</td>\n",
              "    </tr>\n",
              "    <tr>\n",
              "      <th>2</th>\n",
              "      <td>1.237680e+18</td>\n",
              "      <td>23.74654</td>\n",
              "      <td>23.19651</td>\n",
              "      <td>22.01303</td>\n",
              "      <td>20.80744</td>\n",
              "      <td>19.91660</td>\n",
              "      <td>24.60136</td>\n",
              "      <td>23.64122</td>\n",
              "      <td>22.48040</td>\n",
              "      <td>21.31004</td>\n",
              "      <td>...</td>\n",
              "      <td>0.814588</td>\n",
              "      <td>0.000212</td>\n",
              "      <td>23.471525</td>\n",
              "      <td>22.604770</td>\n",
              "      <td>21.410235</td>\n",
              "      <td>20.36202</td>\n",
              "      <td>24.121290</td>\n",
              "      <td>23.060810</td>\n",
              "      <td>21.89522</td>\n",
              "      <td>20.826330</td>\n",
              "    </tr>\n",
              "    <tr>\n",
              "      <th>3</th>\n",
              "      <td>1.237680e+18</td>\n",
              "      <td>20.63075</td>\n",
              "      <td>20.25426</td>\n",
              "      <td>20.04478</td>\n",
              "      <td>19.79378</td>\n",
              "      <td>19.70326</td>\n",
              "      <td>20.99431</td>\n",
              "      <td>20.60174</td>\n",
              "      <td>20.40031</td>\n",
              "      <td>20.19795</td>\n",
              "      <td>...</td>\n",
              "      <td>1.455912</td>\n",
              "      <td>0.000394</td>\n",
              "      <td>20.442505</td>\n",
              "      <td>20.149520</td>\n",
              "      <td>19.919280</td>\n",
              "      <td>19.74852</td>\n",
              "      <td>20.798025</td>\n",
              "      <td>20.501025</td>\n",
              "      <td>20.29913</td>\n",
              "      <td>20.077975</td>\n",
              "    </tr>\n",
              "    <tr>\n",
              "      <th>4</th>\n",
              "      <td>1.237680e+18</td>\n",
              "      <td>21.38126</td>\n",
              "      <td>21.13488</td>\n",
              "      <td>21.09993</td>\n",
              "      <td>20.92882</td>\n",
              "      <td>20.80634</td>\n",
              "      <td>21.85225</td>\n",
              "      <td>21.45860</td>\n",
              "      <td>21.45340</td>\n",
              "      <td>21.19782</td>\n",
              "      <td>...</td>\n",
              "      <td>1.651130</td>\n",
              "      <td>0.000760</td>\n",
              "      <td>21.258070</td>\n",
              "      <td>21.117405</td>\n",
              "      <td>21.014375</td>\n",
              "      <td>20.86758</td>\n",
              "      <td>21.655425</td>\n",
              "      <td>21.456000</td>\n",
              "      <td>21.32561</td>\n",
              "      <td>20.914285</td>\n",
              "    </tr>\n",
              "  </tbody>\n",
              "</table>\n",
              "<p>5 rows × 28 columns</p>\n",
              "</div>\n",
              "      <button class=\"colab-df-convert\" onclick=\"convertToInteractive('df-0e3a9966-b0a6-4dbc-8d63-dd4fff82865f')\"\n",
              "              title=\"Convert this dataframe to an interactive table.\"\n",
              "              style=\"display:none;\">\n",
              "        \n",
              "  <svg xmlns=\"http://www.w3.org/2000/svg\" height=\"24px\"viewBox=\"0 0 24 24\"\n",
              "       width=\"24px\">\n",
              "    <path d=\"M0 0h24v24H0V0z\" fill=\"none\"/>\n",
              "    <path d=\"M18.56 5.44l.94 2.06.94-2.06 2.06-.94-2.06-.94-.94-2.06-.94 2.06-2.06.94zm-11 1L8.5 8.5l.94-2.06 2.06-.94-2.06-.94L8.5 2.5l-.94 2.06-2.06.94zm10 10l.94 2.06.94-2.06 2.06-.94-2.06-.94-.94-2.06-.94 2.06-2.06.94z\"/><path d=\"M17.41 7.96l-1.37-1.37c-.4-.4-.92-.59-1.43-.59-.52 0-1.04.2-1.43.59L10.3 9.45l-7.72 7.72c-.78.78-.78 2.05 0 2.83L4 21.41c.39.39.9.59 1.41.59.51 0 1.02-.2 1.41-.59l7.78-7.78 2.81-2.81c.8-.78.8-2.07 0-2.86zM5.41 20L4 18.59l7.72-7.72 1.47 1.35L5.41 20z\"/>\n",
              "  </svg>\n",
              "      </button>\n",
              "      \n",
              "  <style>\n",
              "    .colab-df-container {\n",
              "      display:flex;\n",
              "      flex-wrap:wrap;\n",
              "      gap: 12px;\n",
              "    }\n",
              "\n",
              "    .colab-df-convert {\n",
              "      background-color: #E8F0FE;\n",
              "      border: none;\n",
              "      border-radius: 50%;\n",
              "      cursor: pointer;\n",
              "      display: none;\n",
              "      fill: #1967D2;\n",
              "      height: 32px;\n",
              "      padding: 0 0 0 0;\n",
              "      width: 32px;\n",
              "    }\n",
              "\n",
              "    .colab-df-convert:hover {\n",
              "      background-color: #E2EBFA;\n",
              "      box-shadow: 0px 1px 2px rgba(60, 64, 67, 0.3), 0px 1px 3px 1px rgba(60, 64, 67, 0.15);\n",
              "      fill: #174EA6;\n",
              "    }\n",
              "\n",
              "    [theme=dark] .colab-df-convert {\n",
              "      background-color: #3B4455;\n",
              "      fill: #D2E3FC;\n",
              "    }\n",
              "\n",
              "    [theme=dark] .colab-df-convert:hover {\n",
              "      background-color: #434B5C;\n",
              "      box-shadow: 0px 1px 3px 1px rgba(0, 0, 0, 0.15);\n",
              "      filter: drop-shadow(0px 1px 2px rgba(0, 0, 0, 0.3));\n",
              "      fill: #FFFFFF;\n",
              "    }\n",
              "  </style>\n",
              "\n",
              "      <script>\n",
              "        const buttonEl =\n",
              "          document.querySelector('#df-0e3a9966-b0a6-4dbc-8d63-dd4fff82865f button.colab-df-convert');\n",
              "        buttonEl.style.display =\n",
              "          google.colab.kernel.accessAllowed ? 'block' : 'none';\n",
              "\n",
              "        async function convertToInteractive(key) {\n",
              "          const element = document.querySelector('#df-0e3a9966-b0a6-4dbc-8d63-dd4fff82865f');\n",
              "          const dataTable =\n",
              "            await google.colab.kernel.invokeFunction('convertToInteractive',\n",
              "                                                     [key], {});\n",
              "          if (!dataTable) return;\n",
              "\n",
              "          const docLinkHtml = 'Like what you see? Visit the ' +\n",
              "            '<a target=\"_blank\" href=https://colab.research.google.com/notebooks/data_table.ipynb>data table notebook</a>'\n",
              "            + ' to learn more about interactive tables.';\n",
              "          element.innerHTML = '';\n",
              "          dataTable['output_type'] = 'display_data';\n",
              "          await google.colab.output.renderOutput(dataTable, element);\n",
              "          const docLink = document.createElement('div');\n",
              "          docLink.innerHTML = docLinkHtml;\n",
              "          element.appendChild(docLink);\n",
              "        }\n",
              "      </script>\n",
              "    </div>\n",
              "  </div>\n",
              "  "
            ]
          },
          "metadata": {},
          "execution_count": 7
        }
      ]
    },
    {
      "cell_type": "code",
      "metadata": {
        "id": "40WjJl1GcEO8"
      },
      "source": [
        "data[data[\"modelMag_u\"]==-9999]=np.nan\n",
        "data[data[\"modelMag_g\"]==-9999]=np.nan\n",
        "data[data[\"modelMag_r\"]==-9999]=np.nan\n",
        "data[data[\"modelMag_i\"]==-9999]=np.nan\n",
        "data[data[\"modelMag_z\"]==-9999]=np.nan\n",
        "data[data[\"fiberMag_u\"]==-9999]=np.nan\n",
        "data[data[\"fiberMag_g\"]==-9999]=np.nan\n",
        "data[data[\"fiberMag_r\"]==-9999]=np.nan\n",
        "data[data[\"fiberMag_i\"]==-9999]=np.nan\n",
        "data[data[\"fiberMag_z\"]==-9999]=np.nan\n",
        "data[data[\"petroR50_r\"]==-9999]=np.nan\n",
        "data[data[\"petroR90_r\"]==-9999]=np.nan\n",
        "data[data[\"petroR50_z\"]==-9999]=np.nan\n",
        "data[data[\"petroR90_z\"]==-9999]=np.nan\n",
        "data[data[\"r\"]==-9999]=np.nan\n",
        "data[data[\"i\"]==-9999]=np.nan\n",
        "data[data[\"z\"]==-9999]=np.nan\n",
        "data[data[\"redshift\"]<0]=np.nan"
      ],
      "execution_count": 8,
      "outputs": []
    },
    {
      "cell_type": "code",
      "metadata": {
        "colab": {
          "base_uri": "https://localhost:8080/"
        },
        "id": "zet2OzFycig8",
        "outputId": "4662f4bb-6cb3-4b42-ceed-e8c2c0af6540"
      },
      "source": [
        "print(data.shape)\n",
        "data=data.dropna()\n",
        "print(data.shape)\n",
        "data1=data.to_numpy()"
      ],
      "execution_count": 9,
      "outputs": [
        {
          "output_type": "stream",
          "name": "stdout",
          "text": [
            "(3651936, 28)\n",
            "(3548153, 28)\n"
          ]
        }
      ]
    },
    {
      "cell_type": "code",
      "metadata": {
        "id": "UlsyCb9WPeNO"
      },
      "source": [
        "df = pd.DataFrame(data)"
      ],
      "execution_count": 10,
      "outputs": []
    },
    {
      "cell_type": "code",
      "metadata": {
        "id": "GCRR3vRSclM8"
      },
      "source": [
        "X=df.iloc[:50000,1:18]\n",
        "y=df.iloc[:50000,18]"
      ],
      "execution_count": 11,
      "outputs": []
    },
    {
      "cell_type": "code",
      "metadata": {
        "id": "4q40EBl8coic"
      },
      "source": [
        "from sklearn.model_selection import train_test_split\n",
        "x_train,x_test,y_train,y_test=train_test_split(X, y, test_size=0.30, random_state=0)"
      ],
      "execution_count": 12,
      "outputs": []
    },
    {
      "cell_type": "markdown",
      "metadata": {
        "id": "fGLZTB9WOJ5P"
      },
      "source": [
        "## Correlation Matrix\n",
        "There are certain features which are highly correlated that means which are some what linearly dependent with other features. These features contribute very less predicting the output but increses the computational cost.\n",
        "\n",
        "1. Calculates correlation between different features.\n",
        "2. Drops highly correlated features to escape curse of dimensionality."
      ]
    },
    {
      "cell_type": "code",
      "metadata": {
        "colab": {
          "base_uri": "https://localhost:8080/",
          "height": 649
        },
        "id": "jIv-syjmc29c",
        "outputId": "53084d18-93a7-44f5-e6b8-4cec920eb649"
      },
      "source": [
        "import seaborn as sns\n",
        "plt.figure(figsize=(12,10))\n",
        "cor = x_train.corr()\n",
        "sns.heatmap(cor, annot = True, cmap=plt.cm.CMRmap_r)\n",
        "plt.show()"
      ],
      "execution_count": 13,
      "outputs": [
        {
          "output_type": "display_data",
          "data": {
            "text/plain": [
              "<Figure size 864x720 with 2 Axes>"
            ],
            "image/png": "[encoded data removed]"
          },
          "metadata": {
            "needs_background": "light"
          }
        }
      ]
    },
    {
      "cell_type": "code",
      "metadata": {
        "id": "dzdTMJ9PddrU",
        "colab": {
          "base_uri": "https://localhost:8080/"
        },
        "outputId": "ebf572f7-7a0e-41fd-adcc-bba578712b87"
      },
      "source": [
        "upper_tri = cor.where(np.triu(np.ones(cor.shape),k=1).astype(np.bool))\n",
        "print(upper_tri)"
      ],
      "execution_count": 14,
      "outputs": [
        {
          "output_type": "stream",
          "name": "stdout",
          "text": [
            "            modelMag_u  modelMag_g  modelMag_r  modelMag_i  modelMag_z  \\\n",
            "modelMag_u         NaN    0.643905    0.421752    0.250891    0.160922   \n",
            "modelMag_g         NaN         NaN    0.863732    0.697468    0.581785   \n",
            "modelMag_r         NaN         NaN         NaN    0.947728    0.875955   \n",
            "modelMag_i         NaN         NaN         NaN         NaN    0.966840   \n",
            "modelMag_z         NaN         NaN         NaN         NaN         NaN   \n",
            "fiberMag_u         NaN         NaN         NaN         NaN         NaN   \n",
            "fiberMag_g         NaN         NaN         NaN         NaN         NaN   \n",
            "fiberMag_r         NaN         NaN         NaN         NaN         NaN   \n",
            "fiberMag_i         NaN         NaN         NaN         NaN         NaN   \n",
            "fiberMag_z         NaN         NaN         NaN         NaN         NaN   \n",
            "petroR50_r         NaN         NaN         NaN         NaN         NaN   \n",
            "petroR90_r         NaN         NaN         NaN         NaN         NaN   \n",
            "petroR50_z         NaN         NaN         NaN         NaN         NaN   \n",
            "petroR90_z         NaN         NaN         NaN         NaN         NaN   \n",
            "r                  NaN         NaN         NaN         NaN         NaN   \n",
            "i                  NaN         NaN         NaN         NaN         NaN   \n",
            "z                  NaN         NaN         NaN         NaN         NaN   \n",
            "\n",
            "            fiberMag_u  fiberMag_g  fiberMag_r  fiberMag_i  fiberMag_z  \\\n",
            "modelMag_u    0.912884    0.695820    0.506788    0.332386    0.234429   \n",
            "modelMag_g    0.614890    0.945893    0.898694    0.752137    0.640441   \n",
            "modelMag_r    0.335116    0.738739    0.946505    0.938923    0.884223   \n",
            "modelMag_i    0.137125    0.531193    0.841855    0.948918    0.939966   \n",
            "modelMag_z    0.033596    0.400464    0.744922    0.891623    0.947213   \n",
            "fiberMag_u         NaN    0.724428    0.476664    0.268798    0.151975   \n",
            "fiberMag_g         NaN         NaN    0.865013    0.666886    0.532066   \n",
            "fiberMag_r         NaN         NaN         NaN    0.931292    0.842440   \n",
            "fiberMag_i         NaN         NaN         NaN         NaN    0.956491   \n",
            "fiberMag_z         NaN         NaN         NaN         NaN         NaN   \n",
            "petroR50_r         NaN         NaN         NaN         NaN         NaN   \n",
            "petroR90_r         NaN         NaN         NaN         NaN         NaN   \n",
            "petroR50_z         NaN         NaN         NaN         NaN         NaN   \n",
            "petroR90_z         NaN         NaN         NaN         NaN         NaN   \n",
            "r                  NaN         NaN         NaN         NaN         NaN   \n",
            "i                  NaN         NaN         NaN         NaN         NaN   \n",
            "z                  NaN         NaN         NaN         NaN         NaN   \n",
            "\n",
            "            petroR50_r  petroR90_r  petroR50_z  petroR90_z         r  \\\n",
            "modelMag_u    0.008717   -0.043530    0.021013   -0.005642  0.421752   \n",
            "modelMag_g   -0.222809   -0.359758   -0.118237   -0.246899  0.863732   \n",
            "modelMag_r   -0.435674   -0.596472   -0.255530   -0.446372  1.000000   \n",
            "modelMag_i   -0.533474   -0.678819   -0.322359   -0.525935  0.947728   \n",
            "modelMag_z   -0.558603   -0.689661   -0.338701   -0.546892  0.875955   \n",
            "fiberMag_u    0.138216    0.092781    0.105793    0.102862  0.335116   \n",
            "fiberMag_g   -0.029516   -0.161089    0.010843   -0.086697  0.738739   \n",
            "fiberMag_r   -0.243519   -0.416641   -0.126640   -0.299677  0.946505   \n",
            "fiberMag_i   -0.371692   -0.535442   -0.209909   -0.408091  0.938923   \n",
            "fiberMag_z   -0.423902   -0.574423   -0.247098   -0.452931  0.884223   \n",
            "petroR50_r         NaN    0.901117    0.692418    0.729912 -0.435674   \n",
            "petroR90_r         NaN         NaN    0.612697    0.744015 -0.596472   \n",
            "petroR50_z         NaN         NaN         NaN    0.822225 -0.255530   \n",
            "petroR90_z         NaN         NaN         NaN         NaN -0.446372   \n",
            "r                  NaN         NaN         NaN         NaN       NaN   \n",
            "i                  NaN         NaN         NaN         NaN       NaN   \n",
            "z                  NaN         NaN         NaN         NaN       NaN   \n",
            "\n",
            "                   i         z  \n",
            "modelMag_u  0.250891  0.160922  \n",
            "modelMag_g  0.697468  0.581785  \n",
            "modelMag_r  0.947728  0.875955  \n",
            "modelMag_i  1.000000  0.966840  \n",
            "modelMag_z  0.966840  1.000000  \n",
            "fiberMag_u  0.137125  0.033596  \n",
            "fiberMag_g  0.531193  0.400464  \n",
            "fiberMag_r  0.841855  0.744922  \n",
            "fiberMag_i  0.948918  0.891623  \n",
            "fiberMag_z  0.939966  0.947213  \n",
            "petroR50_r -0.533474 -0.558603  \n",
            "petroR90_r -0.678819 -0.689661  \n",
            "petroR50_z -0.322359 -0.338701  \n",
            "petroR90_z -0.525935 -0.546892  \n",
            "r           0.947728  0.875955  \n",
            "i                NaN  0.966840  \n",
            "z                NaN       NaN  \n"
          ]
        }
      ]
    },
    {
      "cell_type": "code",
      "metadata": {
        "colab": {
          "base_uri": "https://localhost:8080/"
        },
        "id": "bP-0FkrLRLlM",
        "outputId": "3070aedf-00c7-4bca-e1ba-bcf863bbf424"
      },
      "source": [
        "to_drop = [column for column in upper_tri.columns if any(upper_tri[column] > 0.90)]\n",
        "print(); print(to_drop)"
      ],
      "execution_count": 15,
      "outputs": [
        {
          "output_type": "stream",
          "name": "stdout",
          "text": [
            "\n",
            "['modelMag_i', 'modelMag_z', 'fiberMag_u', 'fiberMag_g', 'fiberMag_r', 'fiberMag_i', 'fiberMag_z', 'petroR90_r', 'r', 'i', 'z']\n"
          ]
        }
      ]
    },
    {
      "cell_type": "code",
      "metadata": {
        "id": "M7p3YH5vRkq4"
      },
      "source": [
        "X=data.iloc[:50000, 1:14].values\n",
        "#X=data1[:,1:19]\n",
        "y=data.iloc[:50000,18].values"
      ],
      "execution_count": 16,
      "outputs": []
    },
    {
      "cell_type": "code",
      "metadata": {
        "id": "vpLAZy0nRmm0"
      },
      "source": [
        "from sklearn.preprocessing import MinMaxScaler\n",
        "scaler = MinMaxScaler()\n",
        "X = scaler.fit_transform(X)"
      ],
      "execution_count": 17,
      "outputs": []
    },
    {
      "cell_type": "code",
      "metadata": {
        "id": "vH3SPCaFyaLn"
      },
      "source": [
        "from sklearn.preprocessing import StandardScaler\n",
        "# define min max scaler\n",
        "scaler = StandardScaler()\n",
        "# transform data\n",
        "X = scaler.fit_transform(X)"
      ],
      "execution_count": 18,
      "outputs": []
    },
    {
      "cell_type": "code",
      "metadata": {
        "id": "wO7GTBdPydvQ"
      },
      "source": [
        "# Define basic parameters\n",
        "batch_size = 64\n",
        "epochs = 25"
      ],
      "execution_count": 19,
      "outputs": []
    },
    {
      "cell_type": "code",
      "metadata": {
        "colab": {
          "base_uri": "https://localhost:8080/",
          "height": 273
        },
        "id": "apGbVz8hygDn",
        "outputId": "6031c852-d16d-4fc8-da5c-3aa386179394"
      },
      "source": [
        "!pip install PyYAML==5.4.1"
      ],
      "execution_count": 20,
      "outputs": [
        {
          "output_type": "stream",
          "name": "stdout",
          "text": [
            "Looking in indexes: https://pypi.org/simple, https://us-python.pkg.dev/colab-wheels/public/simple/\n",
            "Collecting PyYAML==5.4.1\n",
            "  Using cached PyYAML-5.4.1-cp37-cp37m-manylinux1_x86_64.whl (636 kB)\n",
            "Installing collected packages: PyYAML\n",
            "  Attempting uninstall: PyYAML\n",
            "    Found existing installation: PyYAML 6.0\n",
            "    Uninstalling PyYAML-6.0:\n",
            "      Successfully uninstalled PyYAML-6.0\n",
            "Successfully installed PyYAML-5.4.1\n"
          ]
        },
        {
          "output_type": "display_data",
          "data": {
            "application/vnd.colab-display-data+json": {
              "pip_warning": {
                "packages": [
                  "yaml"
                ]
              }
            }
          },
          "metadata": {}
        }
      ]
    },
    {
      "cell_type": "code",
      "metadata": {
        "id": "5bwQ_Q7Tyh3G"
      },
      "source": [
        "# Create Spark context\n",
        "conf = SparkConf().setAppName('Cascade_Spark_MLP').setMaster('local[*]')\n",
        "sc = SparkContext(conf=conf)"
      ],
      "execution_count": 21,
      "outputs": []
    },
    {
      "cell_type": "code",
      "metadata": {
        "colab": {
          "base_uri": "https://localhost:8080/"
        },
        "id": "7A51czQDyrro",
        "outputId": "e41abfcf-92ac-4076-f9a2-3d469a9415bf"
      },
      "source": [
        "from sklearn.model_selection import KFold \n",
        "kf = KFold(n_splits=5, random_state=None)\n",
        "for train_index, test_index in kf.split(X):\n",
        "      print(\"Train:\", train_index, \"Validation:\",test_index)\n",
        "      X_train, X_test = X[train_index], X[test_index] \n",
        "      y_train, y_test = y[train_index], y[test_index]\n",
        "\n",
        "      X_train = X_train.astype(\"float32\")\n",
        "      X_test = X_test.astype(\"float32\")\n",
        "      X_train /= 255\n",
        "      X_test /= 255\n",
        "\n",
        "      acc_score = []\n",
        "      model = Sequential()\n",
        "      model.add(Dense(64, input_shape=(X_train.shape[1],)))\n",
        "      model.add(Activation('relu'))\n",
        "      model.add(Dense(128))\n",
        "      model.add(Activation('relu'))\n",
        "      model.add(Activation('relu'))\n",
        "      model.add(Dense(256))\n",
        "      model.add(Activation('relu'))\n",
        "      model.add(Dense(1))\n",
        "      model.add(Activation('linear'))\n",
        "\n",
        "      \n",
        "\n",
        "      #Build RDD from numpy features and labels\n",
        "      df = to_data_frame(sc, X_train, y_train)\n",
        "      test_df = to_data_frame(sc, X, y)\n",
        "\n",
        "      # sgd = optimizers.SGD(lr=0.01, decay=1e-6, momentum=0.9, nesterov=True)\n",
        "      # sgd_conf = optimizers.serialize(sgd)\n",
        "      opt = optimizers.Adam(lr=0.01)\n",
        "      sgd_conf = optimizers.serialize(opt)\n",
        "      # Initialize Spark ML Estimator\n",
        "      estimator = ElephasEstimator()\n",
        "      estimator.set_keras_model_config(model.to_yaml())\n",
        "      estimator.set_optimizer_config(sgd_conf)\n",
        "      estimator.set_mode(\"synchronous\")\n",
        "      estimator.set_loss(\"mae\")\n",
        "      estimator.set_metrics(['mse'])\n",
        "      estimator.set_epochs(epochs)\n",
        "      estimator.set_batch_size(batch_size)\n",
        "      estimator.set_validation_split(0.1)\n",
        "      estimator.set_categorical_labels(False)\n",
        "\n",
        "\n",
        "      # Fitting a model returns a Transformer\n",
        "      pipeline = Pipeline(stages=[estimator])\n",
        "      fitted_pipeline = pipeline.fit(df)\n",
        "\n",
        "      # Evaluate Spark model by evaluating the underlying model\n",
        "      prediction = fitted_pipeline.transform(test_df)\n",
        "      pnl = prediction.select(\"label\", \"prediction\")\n",
        "      #pnl.show(10)\n",
        "\n",
        "      prediction_and_label = pnl.rdd.map(lambda row: (row.label, row.prediction))\n",
        "      metrics = RegressionMetrics(prediction_and_label)\n",
        "      print(metrics.r2)\n",
        "      print(\"Cascading\")\n",
        "\n",
        "      X_new = np.zeros((50000,14))\n",
        "      X_new[:,:-1] = X\n",
        "      X_new[:, -1] = np.array(pnl.select('prediction').collect())[:,0]\n",
        "\n",
        "      from sklearn.model_selection import KFold \n",
        "      kf = KFold(n_splits=5, random_state=None)\n",
        "      for train_index, test_index in kf.split(X_new):\n",
        "            print(\"Train:\", train_index, \"Validation:\",test_index)\n",
        "            X_train, X_test = X[train_index], X[test_index] \n",
        "            y_train, y_test = y[train_index], y[test_index]\n",
        "\n",
        "            X_train = X_train.astype(\"float32\")\n",
        "            X_test = X_test.astype(\"float32\")\n",
        "            X_train /= 255\n",
        "            X_test /= 255\n",
        "\n",
        "            acc_score = []\n",
        "            model = Sequential()\n",
        "            model.add(Dense(64, input_shape=(X_train.shape[1],)))\n",
        "            model.add(Activation('relu'))\n",
        "            model.add(Dense(128))\n",
        "            model.add(Activation('relu'))\n",
        "            model.add(Activation('relu'))\n",
        "            model.add(Dense(256))\n",
        "            model.add(Activation('relu'))\n",
        "            model.add(Dense(1))\n",
        "            model.add(Activation('linear'))\n",
        "\n",
        "      \n",
        "\n",
        "            #Build RDD from numpy features and labels\n",
        "            df = to_data_frame(sc, X_train, y_train)\n",
        "            test_df = to_data_frame(sc, X, y)\n",
        "\n",
        "            # sgd = optimizers.SGD(lr=0.01, decay=1e-6, momentum=0.9, nesterov=True)\n",
        "            # sgd_conf = optimizers.serialize(sgd)\n",
        "            opt = optimizers.Adam(lr=0.01)\n",
        "            sgd_conf = optimizers.serialize(opt)\n",
        "            # Initialize Spark ML Estimator\n",
        "            estimator = ElephasEstimator()\n",
        "            estimator.set_keras_model_config(model.to_yaml())\n",
        "            estimator.set_optimizer_config(sgd_conf)\n",
        "            estimator.set_mode(\"synchronous\")\n",
        "            estimator.set_loss(\"mae\")\n",
        "            estimator.set_metrics(['mse'])\n",
        "            estimator.set_epochs(epochs)\n",
        "            estimator.set_batch_size(batch_size)\n",
        "            estimator.set_validation_split(0.1)\n",
        "            estimator.set_categorical_labels(False)\n",
        "\n",
        "\n",
        "            # Fitting a model returns a Transformer\n",
        "            pipeline = Pipeline(stages=[estimator])\n",
        "            fitted_pipeline = pipeline.fit(df)\n",
        "\n",
        "            # Evaluate Spark model by evaluating the underlying model\n",
        "            prediction = fitted_pipeline.transform(test_df)\n",
        "            pnl = prediction.select(\"label\", \"prediction\")\n",
        "            #pnl.show(10)\n",
        "\n",
        "            prediction_and_label = pnl.rdd.map(lambda row: (row.label, row.prediction))\n",
        "            metrics = RegressionMetrics(prediction_and_label)\n",
        "            print(metrics.r2)\n",
        "            \n",
        "            print(metrics.meanAbsoluteError)\n",
        "            print(metrics.rootMeanSquaredError) \n",
        "            \n",
        "      #print(metrics.meanAbsoluteError)\n",
        "      #print(metrics.rootMeanSquaredError)    "
      ],
      "execution_count": 22,
      "outputs": [
        {
          "output_type": "stream",
          "name": "stdout",
          "text": [
            "Train: [10000 10001 10002 ... 49997 49998 49999] Validation: [   0    1    2 ... 9997 9998 9999]\n",
            "WARNING:tensorflow:From /usr/local/lib/python3.7/dist-packages/keras/backend/tensorflow_backend.py:66: The name tf.get_default_graph is deprecated. Please use tf.compat.v1.get_default_graph instead.\n",
            "\n",
            "WARNING:tensorflow:From /usr/local/lib/python3.7/dist-packages/keras/backend/tensorflow_backend.py:541: The name tf.placeholder is deprecated. Please use tf.compat.v1.placeholder instead.\n",
            "\n",
            "WARNING:tensorflow:From /usr/local/lib/python3.7/dist-packages/keras/backend/tensorflow_backend.py:4432: The name tf.random_uniform is deprecated. Please use tf.random.uniform instead.\n",
            "\n",
            "WARNING:tensorflow:From /usr/local/lib/python3.7/dist-packages/keras/backend/tensorflow_backend.py:190: The name tf.get_default_session is deprecated. Please use tf.compat.v1.get_default_session instead.\n",
            "\n",
            "WARNING:tensorflow:From /usr/local/lib/python3.7/dist-packages/keras/backend/tensorflow_backend.py:197: The name tf.ConfigProto is deprecated. Please use tf.compat.v1.ConfigProto instead.\n",
            "\n",
            "WARNING:tensorflow:From /usr/local/lib/python3.7/dist-packages/keras/backend/tensorflow_backend.py:203: The name tf.Session is deprecated. Please use tf.compat.v1.Session instead.\n",
            "\n",
            "WARNING:tensorflow:From /usr/local/lib/python3.7/dist-packages/keras/backend/tensorflow_backend.py:207: The name tf.global_variables is deprecated. Please use tf.compat.v1.global_variables instead.\n",
            "\n",
            "WARNING:tensorflow:From /usr/local/lib/python3.7/dist-packages/keras/backend/tensorflow_backend.py:216: The name tf.is_variable_initialized is deprecated. Please use tf.compat.v1.is_variable_initialized instead.\n",
            "\n",
            "WARNING:tensorflow:From /usr/local/lib/python3.7/dist-packages/keras/backend/tensorflow_backend.py:223: The name tf.variables_initializer is deprecated. Please use tf.compat.v1.variables_initializer instead.\n",
            "\n",
            "WARNING:tensorflow:From /usr/local/lib/python3.7/dist-packages/keras/optimizers.py:793: The name tf.train.Optimizer is deprecated. Please use tf.compat.v1.train.Optimizer instead.\n",
            "\n",
            ">>> Fit model\n",
            ">>> Synchronous training complete.\n",
            "-0.4248407248220365\n",
            "Cascading\n",
            "Train: [10000 10001 10002 ... 49997 49998 49999] Validation: [   0    1    2 ... 9997 9998 9999]\n",
            ">>> Fit model\n",
            ">>> Synchronous training complete.\n",
            "-0.5014140908326232\n",
            "33947.9169016918\n",
            "58590.71328973166\n",
            "Train: [    0     1     2 ... 49997 49998 49999] Validation: [10000 10001 10002 ... 19997 19998 19999]\n",
            ">>> Fit model\n",
            ">>> Synchronous training complete.\n",
            "-0.46553146102819687\n",
            "32712.076417014996\n",
            "58041.663551466416\n",
            "Train: [    0     1     2 ... 49997 49998 49999] Validation: [20000 20001 20002 ... 29997 29998 29999]\n",
            ">>> Fit model\n",
            ">>> Synchronous training complete.\n",
            "-0.4967448090676141\n",
            "33316.01197400923\n",
            "57831.37722391948\n",
            "Train: [    0     1     2 ... 49997 49998 49999] Validation: [30000 30001 30002 ... 39997 39998 39999]\n",
            ">>> Fit model\n",
            ">>> Synchronous training complete.\n",
            "-0.4598834251408317\n",
            "39092.796589336765\n",
            "69649.44142560936\n",
            "Train: [    0     1     2 ... 39997 39998 39999] Validation: [40000 40001 40002 ... 49997 49998 49999]\n",
            ">>> Fit model\n",
            ">>> Synchronous training complete.\n",
            "-0.4743400280887362\n",
            "23814.091361909264\n",
            "41878.86265879723\n",
            "Train: [    0     1     2 ... 49997 49998 49999] Validation: [10000 10001 10002 ... 19997 19998 19999]\n",
            ">>> Fit model\n",
            ">>> Synchronous training complete.\n",
            "-0.4348624746204426\n",
            "Cascading\n",
            "Train: [10000 10001 10002 ... 49997 49998 49999] Validation: [   0    1    2 ... 9997 9998 9999]\n",
            ">>> Fit model\n",
            ">>> Synchronous training complete.\n",
            "-0.48379137968903985\n",
            "28415.52438827589\n",
            "49763.67740137647\n",
            "Train: [    0     1     2 ... 49997 49998 49999] Validation: [10000 10001 10002 ... 19997 19998 19999]\n",
            ">>> Fit model\n",
            ">>> Synchronous training complete.\n",
            "-0.7490628941762929\n",
            "25890.549971834025\n",
            "39563.445331895324\n",
            "Train: [    0     1     2 ... 49997 49998 49999] Validation: [20000 20001 20002 ... 29997 29998 29999]\n",
            ">>> Fit model\n",
            ">>> Synchronous training complete.\n",
            "-0.4821911405089305\n",
            "54693.43707351234\n",
            "95892.13015336472\n",
            "Train: [    0     1     2 ... 49997 49998 49999] Validation: [30000 30001 30002 ... 39997 39998 39999]\n",
            ">>> Fit model\n",
            ">>> Synchronous training complete.\n",
            "-0.45775851273121626\n",
            "51148.640387158965\n",
            "91277.75294380571\n",
            "Train: [    0     1     2 ... 39997 39998 39999] Validation: [40000 40001 40002 ... 49997 49998 49999]\n",
            ">>> Fit model\n",
            ">>> Synchronous training complete.\n",
            "-0.4336537545438319\n",
            "50989.23401826972\n",
            "92695.77292840887\n",
            "Train: [    0     1     2 ... 49997 49998 49999] Validation: [20000 20001 20002 ... 29997 29998 29999]\n",
            ">>> Fit model\n",
            ">>> Synchronous training complete.\n",
            "-0.4737344483635777\n",
            "Cascading\n",
            "Train: [10000 10001 10002 ... 49997 49998 49999] Validation: [   0    1    2 ... 9997 9998 9999]\n",
            ">>> Fit model\n",
            ">>> Synchronous training complete.\n",
            "-0.5234905548833164\n",
            "52819.19618990938\n",
            "90106.0561312746\n",
            "Train: [    0     1     2 ... 49997 49998 49999] Validation: [10000 10001 10002 ... 19997 19998 19999]\n",
            ">>> Fit model\n",
            ">>> Synchronous training complete.\n",
            "-0.46589835741513297\n",
            "44170.14556148215\n",
            "78339.23013381223\n",
            "Train: [    0     1     2 ... 49997 49998 49999] Validation: [20000 20001 20002 ... 29997 29998 29999]\n",
            ">>> Fit model\n",
            ">>> Synchronous training complete.\n",
            "-0.4937872947760342\n",
            "28269.720573755545\n",
            "49026.99724115324\n",
            "Train: [    0     1     2 ... 49997 49998 49999] Validation: [30000 30001 30002 ... 39997 39998 39999]\n",
            ">>> Fit model\n",
            ">>> Synchronous training complete.\n",
            "-0.44069800137839965\n",
            "44794.55556405432\n",
            "80910.66030918235\n",
            "Train: [    0     1     2 ... 39997 39998 39999] Validation: [40000 40001 40002 ... 49997 49998 49999]\n",
            ">>> Fit model\n",
            ">>> Synchronous training complete.\n",
            "-0.5004718606905858\n",
            "37055.29418545965\n",
            "64136.786316580816\n",
            "Train: [    0     1     2 ... 49997 49998 49999] Validation: [30000 30001 30002 ... 39997 39998 39999]\n",
            ">>> Fit model\n",
            ">>> Synchronous training complete.\n",
            "-0.46825352516685226\n",
            "Cascading\n",
            "Train: [10000 10001 10002 ... 49997 49998 49999] Validation: [   0    1    2 ... 9997 9998 9999]\n",
            ">>> Fit model\n",
            ">>> Synchronous training complete.\n",
            "-0.4756085748121355\n",
            "49434.03445704882\n",
            "87074.87759824916\n",
            "Train: [    0     1     2 ... 49997 49998 49999] Validation: [10000 10001 10002 ... 19997 19998 19999]\n",
            ">>> Fit model\n",
            ">>> Synchronous training complete.\n",
            "-0.4402417234376512\n",
            "56388.139874612214\n",
            "101991.8858266784\n",
            "Train: [    0     1     2 ... 49997 49998 49999] Validation: [20000 20001 20002 ... 29997 29998 29999]\n",
            ">>> Fit model\n",
            ">>> Synchronous training complete.\n",
            "-0.48200530867584646\n",
            "38200.60266023472\n",
            "66984.9811282077\n",
            "Train: [    0     1     2 ... 49997 49998 49999] Validation: [30000 30001 30002 ... 39997 39998 39999]\n",
            ">>> Fit model\n",
            ">>> Synchronous training complete.\n",
            "-0.5289777445012822\n",
            "23475.81536236854\n",
            "39912.25895471883\n",
            "Train: [    0     1     2 ... 39997 39998 39999] Validation: [40000 40001 40002 ... 49997 49998 49999]\n",
            ">>> Fit model\n",
            ">>> Synchronous training complete.\n",
            "-0.44833974469619786\n",
            "20792.654196419313\n",
            "37112.47593263527\n",
            "Train: [    0     1     2 ... 39997 39998 39999] Validation: [40000 40001 40002 ... 49997 49998 49999]\n",
            ">>> Fit model\n",
            ">>> Synchronous training complete.\n",
            "-0.40948405246470343\n",
            "Cascading\n",
            "Train: [10000 10001 10002 ... 49997 49998 49999] Validation: [   0    1    2 ... 9997 9998 9999]\n",
            ">>> Fit model\n",
            ">>> Synchronous training complete.\n",
            "-0.5241878923565932\n",
            "41990.33648536589\n",
            "71597.67823035712\n",
            "Train: [    0     1     2 ... 49997 49998 49999] Validation: [10000 10001 10002 ... 19997 19998 19999]\n",
            ">>> Fit model\n",
            ">>> Synchronous training complete.\n",
            "-0.4787298975457257\n",
            "55103.960820301145\n",
            "96846.90906843537\n",
            "Train: [    0     1     2 ... 49997 49998 49999] Validation: [20000 20001 20002 ... 29997 29998 29999]\n",
            ">>> Fit model\n",
            ">>> Synchronous training complete.\n",
            "-0.42433756625884667\n",
            "45898.8736341569\n",
            "84093.01151294172\n",
            "Train: [    0     1     2 ... 49997 49998 49999] Validation: [30000 30001 30002 ... 39997 39998 39999]\n",
            ">>> Fit model\n",
            ">>> Synchronous training complete.\n",
            "-0.5469491259839268\n",
            "45571.12094744754\n",
            "76465.45916518345\n",
            "Train: [    0     1     2 ... 39997 39998 39999] Validation: [40000 40001 40002 ... 49997 49998 49999]\n",
            ">>> Fit model\n",
            ">>> Synchronous training complete.\n",
            "-0.4677909275961407\n",
            "38234.59601975545\n",
            "67727.53514837578\n"
          ]
        }
      ]
    }
  ]
}