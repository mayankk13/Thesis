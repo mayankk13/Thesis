{
  "nbformat": 4,
  "nbformat_minor": 0,
  "metadata": {
    "colab": {
      "name": "Logistic Regression.ipynb",
      "provenance": []
    },
    "kernelspec": {
      "name": "python3",
      "display_name": "Python 3"
    },
    "language_info": {
      "name": "python"
    }
  },
  "cells": [
    {
      "cell_type": "code",
      "execution_count": null,
      "metadata": {
        "colab": {
          "base_uri": "https://localhost:8080/"
        },
        "id": "998swbBV1byQ",
        "outputId": "4d5c0bd1-af94-481e-ebc5-4c3f9d1f1687"
      },
      "outputs": [
        {
          "output_type": "stream",
          "name": "stdout",
          "text": [
            "Looking in indexes: https://pypi.org/simple, https://us-python.pkg.dev/colab-wheels/public/simple/\n",
            "Collecting pyspark\n",
            "  Downloading pyspark-3.2.1.tar.gz (281.4 MB)\n",
            "\u001b[K     |████████████████████████████████| 281.4 MB 34 kB/s \n",
            "\u001b[?25hCollecting py4j==0.10.9.3\n",
            "  Downloading py4j-0.10.9.3-py2.py3-none-any.whl (198 kB)\n",
            "\u001b[K     |████████████████████████████████| 198 kB 47.0 MB/s \n",
            "\u001b[?25hBuilding wheels for collected packages: pyspark\n",
            "  Building wheel for pyspark (setup.py) ... \u001b[?25l\u001b[?25hdone\n",
            "  Created wheel for pyspark: filename=pyspark-3.2.1-py2.py3-none-any.whl size=281853642 sha256=003a5e21e4a16fc781a2d984ce9d7be3526f25381efff177d91227f899677fc0\n",
            "  Stored in directory: /root/.cache/pip/wheels/9f/f5/07/7cd8017084dce4e93e84e92efd1e1d5334db05f2e83bcef74f\n",
            "Successfully built pyspark\n",
            "Installing collected packages: py4j, pyspark\n",
            "Successfully installed py4j-0.10.9.3 pyspark-3.2.1\n"
          ]
        }
      ],
      "source": [
        "!pip install pyspark"
      ]
    },
    {
      "cell_type": "code",
      "source": [
        "from pyspark.sql import SparkSession\n",
        "spark = SparkSession.builder.appName(\"Logistic Regression Model\").getOrCreate()\n",
        "from pyspark.ml.classification import LogisticRegression\n",
        "from pyspark.ml.evaluation import MulticlassClassificationEvaluator\n",
        "from pyspark.ml.feature import VectorAssembler, VectorIndexer\n",
        "from pyspark.sql import functions as f\n",
        "import time"
      ],
      "metadata": {
        "id": "scnUcJXO2iSr"
      },
      "execution_count": null,
      "outputs": []
    },
    {
      "cell_type": "code",
      "source": [
        "from pyspark.sql import SparkSession\n",
        "\n",
        "spark = SparkSession.builder.appName('tree').getOrCreate()\n",
        "df = spark.read.csv('/content/drive/MyDrive/Datasets/Thesis/New Dataset/dr16.csv', inferSchema=True, header=True)\n",
        "df.printSchema()"
      ],
      "metadata": {
        "colab": {
          "base_uri": "https://localhost:8080/"
        },
        "id": "AWjVPcIc2kIE",
        "outputId": "9c300e6f-c5c9-4b7a-a9f1-a687b418c0a7"
      },
      "execution_count": null,
      "outputs": [
        {
          "output_type": "stream",
          "name": "stdout",
          "text": [
            "root\n",
            " |-- _c0: integer (nullable = true)\n",
            " |-- Unnamed: 0: integer (nullable = true)\n",
            " |-- modelMag_u: double (nullable = true)\n",
            " |-- modelMag_g: double (nullable = true)\n",
            " |-- modelMag_r: double (nullable = true)\n",
            " |-- modelMag_i: double (nullable = true)\n",
            " |-- modelMag_z: double (nullable = true)\n",
            " |-- fiberMag_u: double (nullable = true)\n",
            " |-- fiberMag_g: double (nullable = true)\n",
            " |-- fiberMag_r: double (nullable = true)\n",
            " |-- fiberMag_i: double (nullable = true)\n",
            " |-- fiberMag_z: double (nullable = true)\n",
            " |-- petroR50_r: double (nullable = true)\n",
            " |-- petroR90_r: double (nullable = true)\n",
            " |-- petroR50_z: double (nullable = true)\n",
            " |-- petroR90_z: double (nullable = true)\n",
            " |-- r: double (nullable = true)\n",
            " |-- i: double (nullable = true)\n",
            " |-- z: double (nullable = true)\n",
            " |-- mmug: double (nullable = true)\n",
            " |-- mmgr: double (nullable = true)\n",
            " |-- mmri: double (nullable = true)\n",
            " |-- mmiz: double (nullable = true)\n",
            " |-- mfug: double (nullable = true)\n",
            " |-- mfgr: double (nullable = true)\n",
            " |-- mfri: double (nullable = true)\n",
            " |-- mfiz: double (nullable = true)\n",
            " |-- redshift: double (nullable = true)\n",
            "\n"
          ]
        }
      ]
    },
    {
      "cell_type": "code",
      "source": [
        "import pyspark.sql.functions as func\n",
        "df = df.withColumn(\"redshift\", func.round(df[\"redshift\"], 2).cast('integer'))\n",
        "df.groupBy('redshift').count().show()"
      ],
      "metadata": {
        "colab": {
          "base_uri": "https://localhost:8080/"
        },
        "id": "WUc1J1Pw2p55",
        "outputId": "3f63bda4-5feb-49fa-b3ad-5c7df3b8f7c1"
      },
      "execution_count": null,
      "outputs": [
        {
          "output_type": "stream",
          "name": "stdout",
          "text": [
            "+--------+------+\n",
            "|redshift| count|\n",
            "+--------+------+\n",
            "|       1| 48930|\n",
            "|       3| 71008|\n",
            "|       2| 31638|\n",
            "|       0|409778|\n",
            "|       6|  5347|\n",
            "|       5|  6185|\n",
            "|       4|  9264|\n",
            "|       7|    81|\n",
            "+--------+------+\n",
            "\n"
          ]
        }
      ]
    },
    {
      "cell_type": "code",
      "source": [
        "df = df.drop('Unnamed: 0', '_c0')\n",
        "df.show(5)"
      ],
      "metadata": {
        "colab": {
          "base_uri": "https://localhost:8080/"
        },
        "id": "NSufxl1I4Nim",
        "outputId": "6df32971-a087-4afc-9bc5-d1c73580e487"
      },
      "execution_count": null,
      "outputs": [
        {
          "output_type": "stream",
          "name": "stdout",
          "text": [
            "+----------+----------+----------+----------+----------+----------+----------+----------+----------+----------+----------+----------+----------+----------+--------+--------+--------+---------+---------+---------+---------+---------+---------+---------+---------+--------+\n",
            "|modelMag_u|modelMag_g|modelMag_r|modelMag_i|modelMag_z|fiberMag_u|fiberMag_g|fiberMag_r|fiberMag_i|fiberMag_z|petroR50_r|petroR90_r|petroR50_z|petroR90_z|       r|       i|       z|     mmug|     mmgr|     mmri|     mmiz|     mfug|     mfgr|     mfri|     mfiz|redshift|\n",
            "+----------+----------+----------+----------+----------+----------+----------+----------+----------+----------+----------+----------+----------+----------+--------+--------+--------+---------+---------+---------+---------+---------+---------+---------+---------+--------+\n",
            "|   23.2391|  21.44343|  19.67306|    18.944|  18.55688|  23.69614|  22.34922|  20.59603|  19.86871|  19.45047|  1.306018|  3.220677|  0.761024|  1.247238|19.67306|  18.944|18.55688|22.341265|20.558245| 19.30853| 18.75044| 23.02268|21.472625| 20.23237| 19.65959|       0|\n",
            "|  24.05348|  21.24721|  19.39289|  18.68024|  18.31429|  24.11929|  22.13657|  20.29977|  19.57731|   19.1918|  1.283157|   3.23897| 0.8610912|  1.476514|19.39289|18.68024|18.31429|22.650345| 20.32005|19.036565|18.497265| 23.12793| 21.21817| 19.93854|19.384555|       0|\n",
            "|  26.32478|  20.74059|  18.99681|  18.29084|  17.80812|  25.19303|  21.98622|  20.28767|  19.56692|  19.07019|  1.808711|   4.49769|  1.894718|   4.88474|18.99681|18.29084|17.80812|23.532685|  19.8687|18.643825| 18.04948|23.589625|21.136945|19.927295|19.318555|       0|\n",
            "|  24.76801|  19.32076|  17.81846|  17.23835|  16.92202|  24.11602|  20.81318|  19.32606|  18.72738|  18.40874|  2.504918|  6.343918|  2.128246|  4.517855|17.81846|17.23835|16.92202|22.044385| 18.56961|17.528405|17.080185|  22.4646| 20.06962| 19.02672| 18.56806|       0|\n",
            "|  21.75992|  19.08566|  17.66071|  17.09855|  16.73864|  23.06111|  20.65647|  19.21674|  18.64546|  18.29452|  2.655708|  7.559356|  2.468482|  6.161466|17.66071|17.09855|16.73864| 20.42279|18.373185| 17.37963|16.918595| 21.85879|19.936605|  18.9311| 18.46999|       0|\n",
            "+----------+----------+----------+----------+----------+----------+----------+----------+----------+----------+----------+----------+----------+----------+--------+--------+--------+---------+---------+---------+---------+---------+---------+---------+---------+--------+\n",
            "only showing top 5 rows\n",
            "\n"
          ]
        }
      ]
    },
    {
      "cell_type": "code",
      "source": [
        "from pyspark.sql.functions import monotonically_increasing_id\n",
        "df = df.withColumn(\"objid\", monotonically_increasing_id())\n",
        "df.show(5)"
      ],
      "metadata": {
        "colab": {
          "base_uri": "https://localhost:8080/"
        },
        "id": "qdgV2kTk4PA4",
        "outputId": "5e428398-db10-465c-ed01-41e1cc7448d7"
      },
      "execution_count": null,
      "outputs": [
        {
          "output_type": "stream",
          "name": "stdout",
          "text": [
            "+----------+----------+----------+----------+----------+----------+----------+----------+----------+----------+----------+----------+----------+----------+--------+--------+--------+---------+---------+---------+---------+---------+---------+---------+---------+--------+-----+\n",
            "|modelMag_u|modelMag_g|modelMag_r|modelMag_i|modelMag_z|fiberMag_u|fiberMag_g|fiberMag_r|fiberMag_i|fiberMag_z|petroR50_r|petroR90_r|petroR50_z|petroR90_z|       r|       i|       z|     mmug|     mmgr|     mmri|     mmiz|     mfug|     mfgr|     mfri|     mfiz|redshift|objid|\n",
            "+----------+----------+----------+----------+----------+----------+----------+----------+----------+----------+----------+----------+----------+----------+--------+--------+--------+---------+---------+---------+---------+---------+---------+---------+---------+--------+-----+\n",
            "|   23.2391|  21.44343|  19.67306|    18.944|  18.55688|  23.69614|  22.34922|  20.59603|  19.86871|  19.45047|  1.306018|  3.220677|  0.761024|  1.247238|19.67306|  18.944|18.55688|22.341265|20.558245| 19.30853| 18.75044| 23.02268|21.472625| 20.23237| 19.65959|       0|    0|\n",
            "|  24.05348|  21.24721|  19.39289|  18.68024|  18.31429|  24.11929|  22.13657|  20.29977|  19.57731|   19.1918|  1.283157|   3.23897| 0.8610912|  1.476514|19.39289|18.68024|18.31429|22.650345| 20.32005|19.036565|18.497265| 23.12793| 21.21817| 19.93854|19.384555|       0|    1|\n",
            "|  26.32478|  20.74059|  18.99681|  18.29084|  17.80812|  25.19303|  21.98622|  20.28767|  19.56692|  19.07019|  1.808711|   4.49769|  1.894718|   4.88474|18.99681|18.29084|17.80812|23.532685|  19.8687|18.643825| 18.04948|23.589625|21.136945|19.927295|19.318555|       0|    2|\n",
            "|  24.76801|  19.32076|  17.81846|  17.23835|  16.92202|  24.11602|  20.81318|  19.32606|  18.72738|  18.40874|  2.504918|  6.343918|  2.128246|  4.517855|17.81846|17.23835|16.92202|22.044385| 18.56961|17.528405|17.080185|  22.4646| 20.06962| 19.02672| 18.56806|       0|    3|\n",
            "|  21.75992|  19.08566|  17.66071|  17.09855|  16.73864|  23.06111|  20.65647|  19.21674|  18.64546|  18.29452|  2.655708|  7.559356|  2.468482|  6.161466|17.66071|17.09855|16.73864| 20.42279|18.373185| 17.37963|16.918595| 21.85879|19.936605|  18.9311| 18.46999|       0|    4|\n",
            "+----------+----------+----------+----------+----------+----------+----------+----------+----------+----------+----------+----------+----------+----------+--------+--------+--------+---------+---------+---------+---------+---------+---------+---------+---------+--------+-----+\n",
            "only showing top 5 rows\n",
            "\n"
          ]
        }
      ]
    },
    {
      "cell_type": "code",
      "source": [
        "from pyspark.ml.feature import VectorAssembler\n",
        "assembler = VectorAssembler(inputCols = ['modelMag_u', 'modelMag_g', 'modelMag_r', 'modelMag_i', 'modelMag_z', 'fiberMag_u', 'fiberMag_g', \n",
        "                                         'fiberMag_r', 'fiberMag_i', 'fiberMag_z', 'petroR50_r', 'petroR90_r', 'petroR50_z', 'petroR90_z', \n",
        "                                         'r', 'i', 'z', 'mmug', 'mmgr', 'mmri', 'mmiz', 'mfug', 'mfgr', 'mfri', 'mfiz'], outputCol = 'features')"
      ],
      "metadata": {
        "id": "UUe5B3Xm4Q_b"
      },
      "execution_count": null,
      "outputs": []
    },
    {
      "cell_type": "code",
      "source": [
        "output = assembler.transform(df)\n",
        "final_df = output.select('features', 'redshift')\n",
        "final_df.show(3)"
      ],
      "metadata": {
        "colab": {
          "base_uri": "https://localhost:8080/"
        },
        "id": "lkGy3wy_4UYm",
        "outputId": "54723b0c-b89e-437a-bffc-96b369d13cfc"
      },
      "execution_count": null,
      "outputs": [
        {
          "output_type": "stream",
          "name": "stdout",
          "text": [
            "+--------------------+--------+\n",
            "|            features|redshift|\n",
            "+--------------------+--------+\n",
            "|[23.2391,21.44343...|       0|\n",
            "|[24.05348,21.2472...|       0|\n",
            "|[26.32478,20.7405...|       0|\n",
            "+--------------------+--------+\n",
            "only showing top 3 rows\n",
            "\n"
          ]
        }
      ]
    },
    {
      "cell_type": "code",
      "source": [
        "train, test = final_df.randomSplit([0.7, 0.3])"
      ],
      "metadata": {
        "id": "mSRxDctR4XHZ"
      },
      "execution_count": null,
      "outputs": []
    },
    {
      "cell_type": "code",
      "source": [
        "classifier = LogisticRegression(labelCol = 'redshift', featuresCol = 'features')"
      ],
      "metadata": {
        "id": "7bSEe9wD4iVc"
      },
      "execution_count": null,
      "outputs": []
    },
    {
      "cell_type": "code",
      "source": [
        "start_time = time.time()\n",
        "model = classifier.fit(train)\n",
        "print(\"%s seconds\" % (time.time() - start_time))"
      ],
      "metadata": {
        "colab": {
          "base_uri": "https://localhost:8080/"
        },
        "id": "n59WrVC04iwx",
        "outputId": "f0c99829-7ebf-4cf1-f12f-e3a30cc6cfb3"
      },
      "execution_count": null,
      "outputs": [
        {
          "output_type": "stream",
          "name": "stdout",
          "text": [
            "72.29490375518799 seconds\n"
          ]
        }
      ]
    },
    {
      "cell_type": "code",
      "source": [
        "pred_data = model.transform(test)"
      ],
      "metadata": {
        "id": "3anIBzFh4kgQ"
      },
      "execution_count": null,
      "outputs": []
    },
    {
      "cell_type": "code",
      "source": [
        "evaluator = MulticlassClassificationEvaluator(metricName = 'accuracy',labelCol = 'redshift')\n",
        "AUC = evaluator.evaluate(pred_data)"
      ],
      "metadata": {
        "id": "nYX5QWRP4mJ4"
      },
      "execution_count": null,
      "outputs": []
    },
    {
      "cell_type": "code",
      "source": [
        "print(AUC)"
      ],
      "metadata": {
        "colab": {
          "base_uri": "https://localhost:8080/"
        },
        "id": "iqgGcL8x5JRs",
        "outputId": "6a6b99e0-376c-4acf-9838-517a13e6369e"
      },
      "execution_count": null,
      "outputs": [
        {
          "output_type": "stream",
          "name": "stdout",
          "text": [
            "0.8692868157507037\n"
          ]
        }
      ]
    },
    {
      "cell_type": "code",
      "source": [
        "print('test data (weightedPrecision): ', evaluator.setMetricName('weightedPrecision').evaluate(pred_data))\n",
        "print('test data (weightedRecall): ', evaluator.setMetricName('weightedRecall').evaluate(pred_data))"
      ],
      "metadata": {
        "colab": {
          "base_uri": "https://localhost:8080/"
        },
        "id": "pVgLy9ZD4txl",
        "outputId": "20eaa2ec-3ddb-48a3-8a55-0e4ffce52491"
      },
      "execution_count": null,
      "outputs": [
        {
          "output_type": "stream",
          "name": "stdout",
          "text": [
            "test data (weightedPrecision):  0.8507842597215167\n",
            "test data (weightedRecall):  0.8692868157507037\n"
          ]
        }
      ]
    },
    {
      "cell_type": "markdown",
      "source": [
        "#Cascading"
      ],
      "metadata": {
        "id": "MwEx9Cjh8nKu"
      }
    },
    {
      "cell_type": "code",
      "source": [
        "pred_data2 = model.transform(final_df)"
      ],
      "metadata": {
        "id": "vA9Tej0B8piJ"
      },
      "execution_count": null,
      "outputs": []
    },
    {
      "cell_type": "code",
      "source": [
        "from pyspark.sql.functions import monotonically_increasing_id\n",
        "pred_data2 = pred_data2.withColumn(\"objid\", monotonically_increasing_id())\n",
        "pred_data2.show(5)"
      ],
      "metadata": {
        "colab": {
          "base_uri": "https://localhost:8080/"
        },
        "id": "TjxfDfC884U-",
        "outputId": "7aa3a53c-2bde-49d6-b9b5-440c5eda4a1a"
      },
      "execution_count": null,
      "outputs": [
        {
          "output_type": "stream",
          "name": "stdout",
          "text": [
            "+--------------------+--------+--------------------+--------------------+----------+-----+\n",
            "|            features|redshift|       rawPrediction|         probability|prediction|objid|\n",
            "+--------------------+--------+--------------------+--------------------+----------+-----+\n",
            "|[23.2391,21.44343...|       0|[5.87059611922958...|[0.96773116381394...|       0.0|    0|\n",
            "|[24.05348,21.2472...|       0|[5.88588397079877...|[0.96092800263189...|       0.0|    1|\n",
            "|[26.32478,20.7405...|       0|[6.85893430264888...|[0.98355649310840...|       0.0|    2|\n",
            "|[24.76801,19.3207...|       0|[8.32904498837645...|[0.99753310998625...|       0.0|    3|\n",
            "|[21.75992,19.0856...|       0|[9.20951513224886...|[0.99927006959495...|       0.0|    4|\n",
            "+--------------------+--------+--------------------+--------------------+----------+-----+\n",
            "only showing top 5 rows\n",
            "\n"
          ]
        }
      ]
    },
    {
      "cell_type": "code",
      "source": [
        "print(df.count(), len(df.columns))\n",
        "print(pred_data2.count(), len(pred_data2.columns))\n",
        "\n",
        "new_df = df.join(pred_data2, df.objid == pred_data2.objid).select(df[\"*\"],pred_data2[\"prediction\"])\n",
        "#new_df = df.join(dt_predictions, df.objid == dt_predictions.objid)\n",
        "new_df.show(5)"
      ],
      "metadata": {
        "colab": {
          "base_uri": "https://localhost:8080/"
        },
        "id": "DfvOVFz986aJ",
        "outputId": "998781ec-c288-454e-a5b4-bf63b98a7bea"
      },
      "execution_count": null,
      "outputs": [
        {
          "output_type": "stream",
          "name": "stdout",
          "text": [
            "582231 27\n",
            "582231 6\n",
            "+----------+----------+----------+----------+----------+----------+----------+----------+----------+----------+----------+----------+----------+----------+--------+--------+--------+---------+---------+---------+---------+---------+---------+---------+---------+--------+-----+----------+\n",
            "|modelMag_u|modelMag_g|modelMag_r|modelMag_i|modelMag_z|fiberMag_u|fiberMag_g|fiberMag_r|fiberMag_i|fiberMag_z|petroR50_r|petroR90_r|petroR50_z|petroR90_z|       r|       i|       z|     mmug|     mmgr|     mmri|     mmiz|     mfug|     mfgr|     mfri|     mfiz|redshift|objid|prediction|\n",
            "+----------+----------+----------+----------+----------+----------+----------+----------+----------+----------+----------+----------+----------+----------+--------+--------+--------+---------+---------+---------+---------+---------+---------+---------+---------+--------+-----+----------+\n",
            "|   23.2391|  21.44343|  19.67306|    18.944|  18.55688|  23.69614|  22.34922|  20.59603|  19.86871|  19.45047|  1.306018|  3.220677|  0.761024|  1.247238|19.67306|  18.944|18.55688|22.341265|20.558245| 19.30853| 18.75044| 23.02268|21.472625| 20.23237| 19.65959|       0|    0|       0.0|\n",
            "|  24.05348|  21.24721|  19.39289|  18.68024|  18.31429|  24.11929|  22.13657|  20.29977|  19.57731|   19.1918|  1.283157|   3.23897| 0.8610912|  1.476514|19.39289|18.68024|18.31429|22.650345| 20.32005|19.036565|18.497265| 23.12793| 21.21817| 19.93854|19.384555|       0|    1|       0.0|\n",
            "|  25.42423|  21.60297|  20.11233|  19.32119|  18.86314|  24.75273|  22.28018|  20.82555|   20.0266|  19.63805|  1.160163|  2.318846|  1.359156|  3.341919|20.11233|19.32119|18.86314|  23.5136| 20.85765| 19.71676|19.092165|23.516455|21.552865|20.426075|19.832325|       0|    5|       0.0|\n",
            "|  22.04921|  21.47603|  21.44306|    21.592|  21.38143|  22.29853|  21.75995|   21.6665|  21.65623|  21.25839| 0.6491482|  1.818569| 0.5845705|   1.28551|21.44306|  21.592|21.38143| 21.76262|21.459545| 21.51753|21.486715| 22.02924|21.713225|21.661365| 21.45731|       2|    6|       2.0|\n",
            "|  20.75249|  20.18921|  19.93516|  20.53483|  19.80316|  20.39007|  19.58229|  19.28082|  19.09184|   18.9058| 0.8137896|  1.313514| 0.7727447|  1.266288|19.93516|20.53483|19.80316| 20.47085|20.062185|20.234995|20.168995| 19.98618|19.431555| 19.18633| 18.99882|       0|    7|       0.0|\n",
            "+----------+----------+----------+----------+----------+----------+----------+----------+----------+----------+----------+----------+----------+----------+--------+--------+--------+---------+---------+---------+---------+---------+---------+---------+---------+--------+-----+----------+\n",
            "only showing top 5 rows\n",
            "\n"
          ]
        }
      ]
    },
    {
      "cell_type": "code",
      "source": [
        "assembler = VectorAssembler(inputCols = ['modelMag_u', 'modelMag_g', 'modelMag_r', 'modelMag_i', 'modelMag_z', 'fiberMag_u', 'fiberMag_g', \n",
        "                                         'fiberMag_r', 'fiberMag_i', 'fiberMag_z', 'petroR50_r', 'petroR90_r', 'petroR50_z', 'petroR90_z', \n",
        "                                         'r', 'i', 'z', 'mmug', 'mmgr', 'mmri', 'mmiz', 'mfug', 'mfgr', 'mfri', 'mfiz', 'prediction'], outputCol = 'features2')"
      ],
      "metadata": {
        "id": "AAxMGQWM88HO"
      },
      "execution_count": null,
      "outputs": []
    },
    {
      "cell_type": "code",
      "source": [
        "output = assembler.transform(new_df)\n",
        "final_df = output.select('features2', 'redshift')\n",
        "final_df.show(3)"
      ],
      "metadata": {
        "colab": {
          "base_uri": "https://localhost:8080/"
        },
        "id": "imlklaIW9ATP",
        "outputId": "3bca30a7-3e61-4ce9-aa4c-30e3edd2fe63"
      },
      "execution_count": null,
      "outputs": [
        {
          "output_type": "stream",
          "name": "stdout",
          "text": [
            "+--------------------+--------+\n",
            "|           features2|redshift|\n",
            "+--------------------+--------+\n",
            "|[23.2391,21.44343...|       0|\n",
            "|[24.05348,21.2472...|       0|\n",
            "|[25.42423,21.6029...|       0|\n",
            "+--------------------+--------+\n",
            "only showing top 3 rows\n",
            "\n"
          ]
        }
      ]
    },
    {
      "cell_type": "code",
      "source": [
        "train, test = final_df.randomSplit([0.7, 0.3])\n",
        "classifier = LogisticRegression(labelCol = 'redshift',featuresCol = 'features2')"
      ],
      "metadata": {
        "id": "ToZJTARv9DvJ"
      },
      "execution_count": null,
      "outputs": []
    },
    {
      "cell_type": "code",
      "source": [
        "model2 = classifier.fit(train)"
      ],
      "metadata": {
        "id": "CkwehRV89KkB"
      },
      "execution_count": null,
      "outputs": []
    },
    {
      "cell_type": "code",
      "source": [
        "pred_data2 = model2.transform(test)"
      ],
      "metadata": {
        "id": "JXcgLV469NBV"
      },
      "execution_count": null,
      "outputs": []
    },
    {
      "cell_type": "code",
      "source": [
        "evaluator = MulticlassClassificationEvaluator(metricName = 'accuracy',labelCol = 'redshift')\n",
        "AUC = evaluator.evaluate(pred_data2)\n",
        "print(AUC)"
      ],
      "metadata": {
        "colab": {
          "base_uri": "https://localhost:8080/"
        },
        "id": "P-iVGeGo9Osu",
        "outputId": "8245f951-5694-44ce-99ed-78b0b8d1ba21"
      },
      "execution_count": null,
      "outputs": [
        {
          "output_type": "stream",
          "name": "stdout",
          "text": [
            "0.8688710930360081\n"
          ]
        }
      ]
    },
    {
      "cell_type": "code",
      "source": [
        "print('test data (weightedPrecision): ', evaluator.setMetricName('weightedPrecision').evaluate(pred_data2))\n",
        "print('test data (weightedRecall): ', evaluator.setMetricName('weightedRecall').evaluate(pred_data2))"
      ],
      "metadata": {
        "id": "OjB0Behu9QEb",
        "colab": {
          "base_uri": "https://localhost:8080/"
        },
        "outputId": "0f5aeed8-4e3f-4b7d-ed87-910ceea1445f"
      },
      "execution_count": null,
      "outputs": [
        {
          "output_type": "stream",
          "name": "stdout",
          "text": [
            "test data (weightedPrecision):  0.8497239328861631\n",
            "test data (weightedRecall):  0.8688710930360082\n"
          ]
        }
      ]
    }
  ]
}