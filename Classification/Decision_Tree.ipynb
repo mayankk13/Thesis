{
  "nbformat": 4,
  "nbformat_minor": 0,
  "metadata": {
    "colab": {
      "name": "Decision Tree.ipynb",
      "provenance": []
    },
    "kernelspec": {
      "name": "python3",
      "display_name": "Python 3"
    },
    "language_info": {
      "name": "python"
    }
  },
  "cells": [
    {
      "cell_type": "code",
      "execution_count": null,
      "metadata": {
        "colab": {
          "base_uri": "https://localhost:8080/"
        },
        "id": "X9IDanBHjSFM",
        "outputId": "a99fa4dc-f780-419e-e258-a59f9a46cf85"
      },
      "outputs": [
        {
          "output_type": "stream",
          "name": "stdout",
          "text": [
            "Requirement already satisfied: pyspark in /usr/local/lib/python3.7/dist-packages (3.2.1)\n",
            "Requirement already satisfied: py4j==0.10.9.3 in /usr/local/lib/python3.7/dist-packages (from pyspark) (0.10.9.3)\n"
          ]
        }
      ],
      "source": [
        "!pip install pyspark"
      ]
    },
    {
      "cell_type": "code",
      "source": [
        "import time\n",
        "from pyspark.sql import SparkSession\n",
        "\n",
        "spark = SparkSession.builder.appName('tree').getOrCreate()\n",
        "df = spark.read.csv('/content/drive/MyDrive/Datasets/Thesis/New Dataset/dr16.csv', inferSchema=True, header=True)\n",
        "df.printSchema()"
      ],
      "metadata": {
        "colab": {
          "base_uri": "https://localhost:8080/"
        },
        "id": "Jqc6yyOSjkbj",
        "outputId": "baf9783e-f64d-426f-ee2a-cc9544042ab2"
      },
      "execution_count": null,
      "outputs": [
        {
          "output_type": "stream",
          "name": "stdout",
          "text": [
            "root\n",
            " |-- _c0: integer (nullable = true)\n",
            " |-- Unnamed: 0: integer (nullable = true)\n",
            " |-- modelMag_u: double (nullable = true)\n",
            " |-- modelMag_g: double (nullable = true)\n",
            " |-- modelMag_r: double (nullable = true)\n",
            " |-- modelMag_i: double (nullable = true)\n",
            " |-- modelMag_z: double (nullable = true)\n",
            " |-- fiberMag_u: double (nullable = true)\n",
            " |-- fiberMag_g: double (nullable = true)\n",
            " |-- fiberMag_r: double (nullable = true)\n",
            " |-- fiberMag_i: double (nullable = true)\n",
            " |-- fiberMag_z: double (nullable = true)\n",
            " |-- petroR50_r: double (nullable = true)\n",
            " |-- petroR90_r: double (nullable = true)\n",
            " |-- petroR50_z: double (nullable = true)\n",
            " |-- petroR90_z: double (nullable = true)\n",
            " |-- r: double (nullable = true)\n",
            " |-- i: double (nullable = true)\n",
            " |-- z: double (nullable = true)\n",
            " |-- mmug: double (nullable = true)\n",
            " |-- mmgr: double (nullable = true)\n",
            " |-- mmri: double (nullable = true)\n",
            " |-- mmiz: double (nullable = true)\n",
            " |-- mfug: double (nullable = true)\n",
            " |-- mfgr: double (nullable = true)\n",
            " |-- mfri: double (nullable = true)\n",
            " |-- mfiz: double (nullable = true)\n",
            " |-- redshift: double (nullable = true)\n",
            "\n"
          ]
        }
      ]
    },
    {
      "cell_type": "code",
      "source": [
        "import pyspark.sql.functions as func\n",
        "df = df.withColumn(\"redshift\", func.round(df[\"redshift\"], 2).cast('integer'))\n",
        "df.groupBy('redshift').count().show()"
      ],
      "metadata": {
        "colab": {
          "base_uri": "https://localhost:8080/"
        },
        "id": "drDxGj3njqL9",
        "outputId": "f040d17e-e21d-4caf-d243-a2b2678472fc"
      },
      "execution_count": null,
      "outputs": [
        {
          "output_type": "stream",
          "name": "stdout",
          "text": [
            "+--------+------+\n",
            "|redshift| count|\n",
            "+--------+------+\n",
            "|       1| 48930|\n",
            "|       3| 71008|\n",
            "|       2| 31638|\n",
            "|       0|409778|\n",
            "|       6|  5347|\n",
            "|       5|  6185|\n",
            "|       4|  9264|\n",
            "|       7|    81|\n",
            "+--------+------+\n",
            "\n"
          ]
        }
      ]
    },
    {
      "cell_type": "code",
      "source": [
        "df = df.drop('Unnamed: 0', '_c0')\n",
        "df.show(5)"
      ],
      "metadata": {
        "colab": {
          "base_uri": "https://localhost:8080/"
        },
        "id": "s9KqKjfYmWMV",
        "outputId": "1d3f1504-c5e3-4f99-8d9a-2bb9cac2f091"
      },
      "execution_count": null,
      "outputs": [
        {
          "output_type": "stream",
          "name": "stdout",
          "text": [
            "+----------+----------+----------+----------+----------+----------+----------+----------+----------+----------+----------+----------+----------+----------+--------+--------+--------+---------+---------+---------+---------+---------+---------+---------+---------+--------+\n",
            "|modelMag_u|modelMag_g|modelMag_r|modelMag_i|modelMag_z|fiberMag_u|fiberMag_g|fiberMag_r|fiberMag_i|fiberMag_z|petroR50_r|petroR90_r|petroR50_z|petroR90_z|       r|       i|       z|     mmug|     mmgr|     mmri|     mmiz|     mfug|     mfgr|     mfri|     mfiz|redshift|\n",
            "+----------+----------+----------+----------+----------+----------+----------+----------+----------+----------+----------+----------+----------+----------+--------+--------+--------+---------+---------+---------+---------+---------+---------+---------+---------+--------+\n",
            "|   23.2391|  21.44343|  19.67306|    18.944|  18.55688|  23.69614|  22.34922|  20.59603|  19.86871|  19.45047|  1.306018|  3.220677|  0.761024|  1.247238|19.67306|  18.944|18.55688|22.341265|20.558245| 19.30853| 18.75044| 23.02268|21.472625| 20.23237| 19.65959|       0|\n",
            "|  24.05348|  21.24721|  19.39289|  18.68024|  18.31429|  24.11929|  22.13657|  20.29977|  19.57731|   19.1918|  1.283157|   3.23897| 0.8610912|  1.476514|19.39289|18.68024|18.31429|22.650345| 20.32005|19.036565|18.497265| 23.12793| 21.21817| 19.93854|19.384555|       0|\n",
            "|  26.32478|  20.74059|  18.99681|  18.29084|  17.80812|  25.19303|  21.98622|  20.28767|  19.56692|  19.07019|  1.808711|   4.49769|  1.894718|   4.88474|18.99681|18.29084|17.80812|23.532685|  19.8687|18.643825| 18.04948|23.589625|21.136945|19.927295|19.318555|       0|\n",
            "|  24.76801|  19.32076|  17.81846|  17.23835|  16.92202|  24.11602|  20.81318|  19.32606|  18.72738|  18.40874|  2.504918|  6.343918|  2.128246|  4.517855|17.81846|17.23835|16.92202|22.044385| 18.56961|17.528405|17.080185|  22.4646| 20.06962| 19.02672| 18.56806|       0|\n",
            "|  21.75992|  19.08566|  17.66071|  17.09855|  16.73864|  23.06111|  20.65647|  19.21674|  18.64546|  18.29452|  2.655708|  7.559356|  2.468482|  6.161466|17.66071|17.09855|16.73864| 20.42279|18.373185| 17.37963|16.918595| 21.85879|19.936605|  18.9311| 18.46999|       0|\n",
            "+----------+----------+----------+----------+----------+----------+----------+----------+----------+----------+----------+----------+----------+----------+--------+--------+--------+---------+---------+---------+---------+---------+---------+---------+---------+--------+\n",
            "only showing top 5 rows\n",
            "\n"
          ]
        }
      ]
    },
    {
      "cell_type": "code",
      "source": [
        "from pyspark.sql.functions import monotonically_increasing_id\n",
        "df = df.withColumn(\"objid\", monotonically_increasing_id())\n",
        "df.show(5)"
      ],
      "metadata": {
        "colab": {
          "base_uri": "https://localhost:8080/"
        },
        "id": "5cJqZM7jwCKt",
        "outputId": "55c5b570-60ab-463c-dfd6-497731245216"
      },
      "execution_count": null,
      "outputs": [
        {
          "output_type": "stream",
          "name": "stdout",
          "text": [
            "+----------+----------+----------+----------+----------+----------+----------+----------+----------+----------+----------+----------+----------+----------+--------+--------+--------+---------+---------+---------+---------+---------+---------+---------+---------+--------+-----+\n",
            "|modelMag_u|modelMag_g|modelMag_r|modelMag_i|modelMag_z|fiberMag_u|fiberMag_g|fiberMag_r|fiberMag_i|fiberMag_z|petroR50_r|petroR90_r|petroR50_z|petroR90_z|       r|       i|       z|     mmug|     mmgr|     mmri|     mmiz|     mfug|     mfgr|     mfri|     mfiz|redshift|objid|\n",
            "+----------+----------+----------+----------+----------+----------+----------+----------+----------+----------+----------+----------+----------+----------+--------+--------+--------+---------+---------+---------+---------+---------+---------+---------+---------+--------+-----+\n",
            "|   23.2391|  21.44343|  19.67306|    18.944|  18.55688|  23.69614|  22.34922|  20.59603|  19.86871|  19.45047|  1.306018|  3.220677|  0.761024|  1.247238|19.67306|  18.944|18.55688|22.341265|20.558245| 19.30853| 18.75044| 23.02268|21.472625| 20.23237| 19.65959|       0|    0|\n",
            "|  24.05348|  21.24721|  19.39289|  18.68024|  18.31429|  24.11929|  22.13657|  20.29977|  19.57731|   19.1918|  1.283157|   3.23897| 0.8610912|  1.476514|19.39289|18.68024|18.31429|22.650345| 20.32005|19.036565|18.497265| 23.12793| 21.21817| 19.93854|19.384555|       0|    1|\n",
            "|  26.32478|  20.74059|  18.99681|  18.29084|  17.80812|  25.19303|  21.98622|  20.28767|  19.56692|  19.07019|  1.808711|   4.49769|  1.894718|   4.88474|18.99681|18.29084|17.80812|23.532685|  19.8687|18.643825| 18.04948|23.589625|21.136945|19.927295|19.318555|       0|    2|\n",
            "|  24.76801|  19.32076|  17.81846|  17.23835|  16.92202|  24.11602|  20.81318|  19.32606|  18.72738|  18.40874|  2.504918|  6.343918|  2.128246|  4.517855|17.81846|17.23835|16.92202|22.044385| 18.56961|17.528405|17.080185|  22.4646| 20.06962| 19.02672| 18.56806|       0|    3|\n",
            "|  21.75992|  19.08566|  17.66071|  17.09855|  16.73864|  23.06111|  20.65647|  19.21674|  18.64546|  18.29452|  2.655708|  7.559356|  2.468482|  6.161466|17.66071|17.09855|16.73864| 20.42279|18.373185| 17.37963|16.918595| 21.85879|19.936605|  18.9311| 18.46999|       0|    4|\n",
            "+----------+----------+----------+----------+----------+----------+----------+----------+----------+----------+----------+----------+----------+----------+--------+--------+--------+---------+---------+---------+---------+---------+---------+---------+---------+--------+-----+\n",
            "only showing top 5 rows\n",
            "\n"
          ]
        }
      ]
    },
    {
      "cell_type": "code",
      "source": [
        "from pyspark.ml.feature import VectorAssembler\n",
        "assembler = VectorAssembler(inputCols = ['modelMag_u', 'modelMag_g', 'modelMag_r', 'modelMag_i', 'modelMag_z', 'fiberMag_u', 'fiberMag_g', \n",
        "                                         'fiberMag_r', 'fiberMag_i', 'fiberMag_z', 'petroR50_r', 'petroR90_r', 'petroR50_z', 'petroR90_z', \n",
        "                                         'r', 'i', 'z', 'mmug', 'mmgr', 'mmri', 'mmiz', 'mfug', 'mfgr', 'mfri', 'mfiz'], outputCol = 'features')"
      ],
      "metadata": {
        "id": "eOUfT7VrnGW0"
      },
      "execution_count": null,
      "outputs": []
    },
    {
      "cell_type": "code",
      "source": [
        "output = assembler.transform(df)\n",
        "final_df = output.select('features', 'redshift')\n",
        "final_df.show(5)"
      ],
      "metadata": {
        "colab": {
          "base_uri": "https://localhost:8080/"
        },
        "id": "mHg6PfJmmZUa",
        "outputId": "27e27b21-1724-4c02-a65a-b29c09400b9f"
      },
      "execution_count": null,
      "outputs": [
        {
          "output_type": "stream",
          "name": "stdout",
          "text": [
            "+--------------------+--------+\n",
            "|            features|redshift|\n",
            "+--------------------+--------+\n",
            "|[23.2391,21.44343...|       0|\n",
            "|[24.05348,21.2472...|       0|\n",
            "|[26.32478,20.7405...|       0|\n",
            "|[24.76801,19.3207...|       0|\n",
            "|[21.75992,19.0856...|       0|\n",
            "+--------------------+--------+\n",
            "only showing top 5 rows\n",
            "\n"
          ]
        }
      ]
    },
    {
      "cell_type": "code",
      "source": [
        "train, test = final_df.randomSplit([0.7, 0.3])"
      ],
      "metadata": {
        "id": "fu-U4_pXnRpB"
      },
      "execution_count": null,
      "outputs": []
    },
    {
      "cell_type": "code",
      "source": [
        "from pyspark.ml.classification import (DecisionTreeClassifier, RandomForestClassifier, \n",
        "                                      GBTClassifier)\n",
        "from pyspark.ml import Pipeline\n",
        "\n",
        "dt = DecisionTreeClassifier(labelCol = 'redshift', featuresCol = 'features')\n",
        "#rf = RandomForestClassifier(labelCol = 'redshift', featuresCol = 'features')"
      ],
      "metadata": {
        "id": "hIXCJ0n8nhwZ"
      },
      "execution_count": null,
      "outputs": []
    },
    {
      "cell_type": "code",
      "source": [
        "start_time = time.time()\n",
        "dt_model = dt.fit(train)\n",
        "print(\"%s seconds\" % (time.time() - start_time))"
      ],
      "metadata": {
        "colab": {
          "base_uri": "https://localhost:8080/"
        },
        "id": "bAtlL8KZnl7F",
        "outputId": "2148651e-feed-4340-e942-9630c2a517d4"
      },
      "execution_count": null,
      "outputs": [
        {
          "output_type": "stream",
          "name": "stdout",
          "text": [
            "55.82771134376526 seconds\n"
          ]
        }
      ]
    },
    {
      "cell_type": "code",
      "source": [
        "dt_predictions = dt_model.transform(test)"
      ],
      "metadata": {
        "id": "ZVrvgDDuno7z"
      },
      "execution_count": null,
      "outputs": []
    },
    {
      "cell_type": "code",
      "source": [
        "from pyspark.ml.evaluation import MulticlassClassificationEvaluator\n",
        "\n",
        "multi_evaluator = MulticlassClassificationEvaluator(labelCol = 'redshift', metricName = 'accuracy')\n",
        "print('Decision Tree Accu:', multi_evaluator.evaluate(dt_predictions))"
      ],
      "metadata": {
        "colab": {
          "base_uri": "https://localhost:8080/"
        },
        "id": "mLyOydBcn9LW",
        "outputId": "2537b3a7-1c76-4936-bd06-d8587620bfe3"
      },
      "execution_count": null,
      "outputs": [
        {
          "output_type": "stream",
          "name": "stdout",
          "text": [
            "Decision Tree Accu: 0.8334040795723103\n"
          ]
        }
      ]
    },
    {
      "cell_type": "code",
      "source": [
        "print('test data (weightedPrecision): ', multi_evaluator.setMetricName('weightedPrecision').evaluate(dt_predictions))\n",
        "print('test data (weightedRecall): ', multi_evaluator.setMetricName('weightedRecall').evaluate(dt_predictions))"
      ],
      "metadata": {
        "colab": {
          "base_uri": "https://localhost:8080/"
        },
        "id": "YKPVYiqKoBuQ",
        "outputId": "cc6c13c9-3df0-4842-9fd6-d295f7c49335"
      },
      "execution_count": null,
      "outputs": [
        {
          "output_type": "stream",
          "name": "stdout",
          "text": [
            "test data (weightedPrecision):  0.8232812597071821\n",
            "test data (weightedRecall):  0.8334040795723103\n"
          ]
        }
      ]
    },
    {
      "cell_type": "markdown",
      "source": [
        "#Cascading"
      ],
      "metadata": {
        "id": "6IFTpRn0oDt0"
      }
    },
    {
      "cell_type": "code",
      "source": [
        "dt_predictions2 = dt_model.transform(final_df)"
      ],
      "metadata": {
        "id": "vwdPprWToC7F"
      },
      "execution_count": null,
      "outputs": []
    },
    {
      "cell_type": "code",
      "source": [
        "dt_predictions2.show(3)"
      ],
      "metadata": {
        "colab": {
          "base_uri": "https://localhost:8080/"
        },
        "id": "xIDDXYNUocIs",
        "outputId": "dcef8f0b-8f96-4f0d-c58a-7237508e8386"
      },
      "execution_count": null,
      "outputs": [
        {
          "output_type": "stream",
          "name": "stdout",
          "text": [
            "+--------------------+--------+--------------------+--------------------+----------+\n",
            "|            features|redshift|       rawPrediction|         probability|prediction|\n",
            "+--------------------+--------+--------------------+--------------------+----------+\n",
            "|[23.2391,21.44343...|       0|[231196.0,759.0,2...|[0.98500734933855...|       0.0|\n",
            "|[24.05348,21.2472...|       0|[231196.0,759.0,2...|[0.98500734933855...|       0.0|\n",
            "|[26.32478,20.7405...|       0|[231196.0,759.0,2...|[0.98500734933855...|       0.0|\n",
            "+--------------------+--------+--------------------+--------------------+----------+\n",
            "only showing top 3 rows\n",
            "\n"
          ]
        }
      ]
    },
    {
      "cell_type": "code",
      "source": [
        "from pyspark.sql.functions import monotonically_increasing_id\n",
        "dt_predictions = dt_predictions2.withColumn(\"objid\", monotonically_increasing_id())\n",
        "dt_predictions.show(3)"
      ],
      "metadata": {
        "colab": {
          "base_uri": "https://localhost:8080/"
        },
        "id": "FtFAOnFqogIT",
        "outputId": "880f7e98-26f3-44a2-c37b-cf78383bee86"
      },
      "execution_count": null,
      "outputs": [
        {
          "output_type": "stream",
          "name": "stdout",
          "text": [
            "+--------------------+--------+--------------------+--------------------+----------+-----+\n",
            "|            features|redshift|       rawPrediction|         probability|prediction|objid|\n",
            "+--------------------+--------+--------------------+--------------------+----------+-----+\n",
            "|[23.2391,21.44343...|       0|[231196.0,759.0,2...|[0.98500734933855...|       0.0|    0|\n",
            "|[24.05348,21.2472...|       0|[231196.0,759.0,2...|[0.98500734933855...|       0.0|    1|\n",
            "|[26.32478,20.7405...|       0|[231196.0,759.0,2...|[0.98500734933855...|       0.0|    2|\n",
            "+--------------------+--------+--------------------+--------------------+----------+-----+\n",
            "only showing top 3 rows\n",
            "\n"
          ]
        }
      ]
    },
    {
      "cell_type": "code",
      "source": [
        "print(df.count(), len(df.columns))\n",
        "print(dt_predictions.count(), len(dt_predictions.columns))\n",
        "\n",
        "new_df = df.join(dt_predictions, df.objid == dt_predictions.objid).select(df[\"*\"],dt_predictions[\"prediction\"])\n",
        "#new_df = df.join(dt_predictions, df.objid == dt_predictions.objid)\n",
        "new_df.show(5)"
      ],
      "metadata": {
        "colab": {
          "base_uri": "https://localhost:8080/"
        },
        "id": "bCp8BbT1oi60",
        "outputId": "380695a8-c56f-41b8-a615-dcb7e23edd81"
      },
      "execution_count": null,
      "outputs": [
        {
          "output_type": "stream",
          "name": "stdout",
          "text": [
            "582231 27\n",
            "582231 6\n",
            "+----------+----------+----------+----------+----------+----------+----------+----------+----------+----------+----------+----------+----------+----------+--------+--------+--------+---------+---------+---------+---------+---------+---------+---------+---------+--------+-----+----------+\n",
            "|modelMag_u|modelMag_g|modelMag_r|modelMag_i|modelMag_z|fiberMag_u|fiberMag_g|fiberMag_r|fiberMag_i|fiberMag_z|petroR50_r|petroR90_r|petroR50_z|petroR90_z|       r|       i|       z|     mmug|     mmgr|     mmri|     mmiz|     mfug|     mfgr|     mfri|     mfiz|redshift|objid|prediction|\n",
            "+----------+----------+----------+----------+----------+----------+----------+----------+----------+----------+----------+----------+----------+----------+--------+--------+--------+---------+---------+---------+---------+---------+---------+---------+---------+--------+-----+----------+\n",
            "|   23.2391|  21.44343|  19.67306|    18.944|  18.55688|  23.69614|  22.34922|  20.59603|  19.86871|  19.45047|  1.306018|  3.220677|  0.761024|  1.247238|19.67306|  18.944|18.55688|22.341265|20.558245| 19.30853| 18.75044| 23.02268|21.472625| 20.23237| 19.65959|       0|    0|       0.0|\n",
            "|  24.05348|  21.24721|  19.39289|  18.68024|  18.31429|  24.11929|  22.13657|  20.29977|  19.57731|   19.1918|  1.283157|   3.23897| 0.8610912|  1.476514|19.39289|18.68024|18.31429|22.650345| 20.32005|19.036565|18.497265| 23.12793| 21.21817| 19.93854|19.384555|       0|    1|       0.0|\n",
            "|  25.42423|  21.60297|  20.11233|  19.32119|  18.86314|  24.75273|  22.28018|  20.82555|   20.0266|  19.63805|  1.160163|  2.318846|  1.359156|  3.341919|20.11233|19.32119|18.86314|  23.5136| 20.85765| 19.71676|19.092165|23.516455|21.552865|20.426075|19.832325|       0|    5|       0.0|\n",
            "|  22.04921|  21.47603|  21.44306|    21.592|  21.38143|  22.29853|  21.75995|   21.6665|  21.65623|  21.25839| 0.6491482|  1.818569| 0.5845705|   1.28551|21.44306|  21.592|21.38143| 21.76262|21.459545| 21.51753|21.486715| 22.02924|21.713225|21.661365| 21.45731|       2|    6|       1.0|\n",
            "|  20.75249|  20.18921|  19.93516|  20.53483|  19.80316|  20.39007|  19.58229|  19.28082|  19.09184|   18.9058| 0.8137896|  1.313514| 0.7727447|  1.266288|19.93516|20.53483|19.80316| 20.47085|20.062185|20.234995|20.168995| 19.98618|19.431555| 19.18633| 18.99882|       0|    7|       1.0|\n",
            "+----------+----------+----------+----------+----------+----------+----------+----------+----------+----------+----------+----------+----------+----------+--------+--------+--------+---------+---------+---------+---------+---------+---------+---------+---------+--------+-----+----------+\n",
            "only showing top 5 rows\n",
            "\n"
          ]
        }
      ]
    },
    {
      "cell_type": "code",
      "source": [
        "assembler = VectorAssembler(inputCols = ['modelMag_u', 'modelMag_g', 'modelMag_r', 'modelMag_i', 'modelMag_z', 'fiberMag_u', 'fiberMag_g', \n",
        "                                         'fiberMag_r', 'fiberMag_i', 'fiberMag_z', 'petroR50_r', 'petroR90_r', 'petroR50_z', 'petroR90_z', \n",
        "                                         'r', 'i', 'z', 'mmug', 'mmgr', 'mmri', 'mmiz', 'mfug', 'mfgr', 'mfri', 'mfiz', 'prediction'], outputCol = 'features2')"
      ],
      "metadata": {
        "id": "TUgfIa0nxO-3"
      },
      "execution_count": null,
      "outputs": []
    },
    {
      "cell_type": "code",
      "source": [
        "output = assembler.transform(new_df)\n",
        "final_df = output.select('features2', 'redshift')\n",
        "final_df.show(3)"
      ],
      "metadata": {
        "colab": {
          "base_uri": "https://localhost:8080/"
        },
        "id": "7YQHV-hpxcP4",
        "outputId": "4ccf1339-c3d0-462e-aac8-d49aca158afc"
      },
      "execution_count": null,
      "outputs": [
        {
          "output_type": "stream",
          "name": "stdout",
          "text": [
            "+--------------------+--------+\n",
            "|           features2|redshift|\n",
            "+--------------------+--------+\n",
            "|[23.2391,21.44343...|       0|\n",
            "|[24.05348,21.2472...|       0|\n",
            "|[25.42423,21.6029...|       0|\n",
            "+--------------------+--------+\n",
            "only showing top 3 rows\n",
            "\n"
          ]
        }
      ]
    },
    {
      "cell_type": "code",
      "source": [
        "train, test = final_df.randomSplit([0.7, 0.3])"
      ],
      "metadata": {
        "id": "Anvcxdv3xfcf"
      },
      "execution_count": null,
      "outputs": []
    },
    {
      "cell_type": "code",
      "source": [
        "from pyspark.ml.classification import (DecisionTreeClassifier, RandomForestClassifier, \n",
        "                                      GBTClassifier)\n",
        "from pyspark.ml import Pipeline\n",
        "\n",
        "dt1 = DecisionTreeClassifier(labelCol = 'redshift', featuresCol = 'features2')\n",
        "rf = RandomForestClassifier(labelCol = 'redshift', featuresCol = 'features2')\n",
        "gb = GBTClassifier(labelCol = 'redshift', featuresCol = 'features2')"
      ],
      "metadata": {
        "id": "0kpg8q9wxjsr"
      },
      "execution_count": null,
      "outputs": []
    },
    {
      "cell_type": "code",
      "source": [
        "start_time = time.time()\n",
        "dt_model1 = dt1.fit(train)\n",
        "print(\"%s seconds\" % (time.time() - start_time))"
      ],
      "metadata": {
        "colab": {
          "base_uri": "https://localhost:8080/"
        },
        "id": "iyVOXIrexmVQ",
        "outputId": "978805d2-7943-4802-b7aa-5dfeae14c016"
      },
      "execution_count": null,
      "outputs": [
        {
          "output_type": "stream",
          "name": "stdout",
          "text": [
            "68.32338333129883 seconds\n"
          ]
        }
      ]
    },
    {
      "cell_type": "code",
      "source": [
        "dt_predictions2 = dt_model1.transform(test)"
      ],
      "metadata": {
        "id": "xrGegfW7xppP"
      },
      "execution_count": null,
      "outputs": []
    },
    {
      "cell_type": "code",
      "source": [
        "from pyspark.ml.evaluation import MulticlassClassificationEvaluator\n",
        "\n",
        "multi_evaluator = MulticlassClassificationEvaluator(labelCol = 'redshift', metricName = 'accuracy')\n",
        "print('Decision Tree Accu:', multi_evaluator.evaluate(dt_predictions2))"
      ],
      "metadata": {
        "colab": {
          "base_uri": "https://localhost:8080/"
        },
        "id": "C2-vdwJiyFgk",
        "outputId": "e75ad0ff-1b64-4a58-9584-440b9ff75390"
      },
      "execution_count": null,
      "outputs": [
        {
          "output_type": "stream",
          "name": "stdout",
          "text": [
            "Decision Tree Accu: 0.8454708350746226\n"
          ]
        }
      ]
    },
    {
      "cell_type": "code",
      "source": [
        "print('test data (weightedPrecision): ', multi_evaluator.setMetricName('weightedPrecision').evaluate(dt_predictions2))\n",
        "print('test data (weightedRecall): ', multi_evaluator.setMetricName('weightedRecall').evaluate(dt_predictions2))"
      ],
      "metadata": {
        "colab": {
          "base_uri": "https://localhost:8080/"
        },
        "id": "Ydmb765oyHoh",
        "outputId": "9b62392b-f98d-4940-c9c3-8ace754f3bfd"
      },
      "execution_count": null,
      "outputs": [
        {
          "output_type": "stream",
          "name": "stdout",
          "text": [
            "test data (weightedPrecision):  0.8461956549882351\n",
            "test data (weightedRecall):  0.8454708350746225\n"
          ]
        }
      ]
    }
  ]
}