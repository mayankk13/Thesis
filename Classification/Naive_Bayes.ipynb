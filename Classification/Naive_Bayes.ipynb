{
  "nbformat": 4,
  "nbformat_minor": 0,
  "metadata": {
    "colab": {
      "name": "Naive Bayes.ipynb",
      "provenance": []
    },
    "kernelspec": {
      "name": "python3",
      "display_name": "Python 3"
    },
    "language_info": {
      "name": "python"
    }
  },
  "cells": [
    {
      "cell_type": "code",
      "execution_count": null,
      "metadata": {
        "colab": {
          "base_uri": "https://localhost:8080/"
        },
        "id": "V25BT4cny5-9",
        "outputId": "bfb27540-1836-4729-ea61-dca72c0138d1"
      },
      "outputs": [
        {
          "output_type": "stream",
          "name": "stdout",
          "text": [
            "Collecting pyspark\n",
            "  Downloading pyspark-3.2.1.tar.gz (281.4 MB)\n",
            "\u001b[K     |████████████████████████████████| 281.4 MB 33 kB/s \n",
            "\u001b[?25hCollecting py4j==0.10.9.3\n",
            "  Downloading py4j-0.10.9.3-py2.py3-none-any.whl (198 kB)\n",
            "\u001b[K     |████████████████████████████████| 198 kB 42.4 MB/s \n",
            "\u001b[?25hBuilding wheels for collected packages: pyspark\n",
            "  Building wheel for pyspark (setup.py) ... \u001b[?25l\u001b[?25hdone\n",
            "  Created wheel for pyspark: filename=pyspark-3.2.1-py2.py3-none-any.whl size=281853642 sha256=f5d19ba026999987e89d7e23b23cc90a32d84dbae4baa7ca75426f814a8aa8b1\n",
            "  Stored in directory: /root/.cache/pip/wheels/9f/f5/07/7cd8017084dce4e93e84e92efd1e1d5334db05f2e83bcef74f\n",
            "Successfully built pyspark\n",
            "Installing collected packages: py4j, pyspark\n",
            "Successfully installed py4j-0.10.9.3 pyspark-3.2.1\n"
          ]
        }
      ],
      "source": [
        "!pip install pyspark"
      ]
    },
    {
      "cell_type": "code",
      "source": [
        "import time\n",
        "from pyspark.sql import SparkSession\n",
        "\n",
        "spark = SparkSession.builder.appName('tree').getOrCreate()\n",
        "df = spark.read.csv('/content/drive/MyDrive/Datasets/Thesis/New Dataset/dr16.csv', inferSchema=True, header=True)\n",
        "df.printSchema()"
      ],
      "metadata": {
        "colab": {
          "base_uri": "https://localhost:8080/"
        },
        "id": "vzx6Mz0ezDdI",
        "outputId": "950b3911-1163-42a7-b68d-26257355bebc"
      },
      "execution_count": null,
      "outputs": [
        {
          "output_type": "stream",
          "name": "stdout",
          "text": [
            "root\n",
            " |-- _c0: integer (nullable = true)\n",
            " |-- Unnamed: 0: integer (nullable = true)\n",
            " |-- modelMag_u: double (nullable = true)\n",
            " |-- modelMag_g: double (nullable = true)\n",
            " |-- modelMag_r: double (nullable = true)\n",
            " |-- modelMag_i: double (nullable = true)\n",
            " |-- modelMag_z: double (nullable = true)\n",
            " |-- fiberMag_u: double (nullable = true)\n",
            " |-- fiberMag_g: double (nullable = true)\n",
            " |-- fiberMag_r: double (nullable = true)\n",
            " |-- fiberMag_i: double (nullable = true)\n",
            " |-- fiberMag_z: double (nullable = true)\n",
            " |-- petroR50_r: double (nullable = true)\n",
            " |-- petroR90_r: double (nullable = true)\n",
            " |-- petroR50_z: double (nullable = true)\n",
            " |-- petroR90_z: double (nullable = true)\n",
            " |-- r: double (nullable = true)\n",
            " |-- i: double (nullable = true)\n",
            " |-- z: double (nullable = true)\n",
            " |-- mmug: double (nullable = true)\n",
            " |-- mmgr: double (nullable = true)\n",
            " |-- mmri: double (nullable = true)\n",
            " |-- mmiz: double (nullable = true)\n",
            " |-- mfug: double (nullable = true)\n",
            " |-- mfgr: double (nullable = true)\n",
            " |-- mfri: double (nullable = true)\n",
            " |-- mfiz: double (nullable = true)\n",
            " |-- redshift: double (nullable = true)\n",
            "\n"
          ]
        }
      ]
    },
    {
      "cell_type": "code",
      "source": [
        "import pyspark.sql.functions as func\n",
        "df = df.withColumn(\"redshift\", func.round(df[\"redshift\"], 2).cast('integer'))\n",
        "df.groupBy('redshift').count().show()"
      ],
      "metadata": {
        "colab": {
          "base_uri": "https://localhost:8080/"
        },
        "id": "qnmceAEbzExr",
        "outputId": "249d2af5-df76-47af-c6a7-dd89317c339a"
      },
      "execution_count": null,
      "outputs": [
        {
          "output_type": "stream",
          "name": "stdout",
          "text": [
            "+--------+------+\n",
            "|redshift| count|\n",
            "+--------+------+\n",
            "|       1| 48930|\n",
            "|       3| 71008|\n",
            "|       2| 31638|\n",
            "|       0|409778|\n",
            "|       6|  5347|\n",
            "|       5|  6185|\n",
            "|       4|  9264|\n",
            "|       7|    81|\n",
            "+--------+------+\n",
            "\n"
          ]
        }
      ]
    },
    {
      "cell_type": "code",
      "source": [
        "df = df.drop('Unnamed: 0', '_c0')\n",
        "df.show(5)"
      ],
      "metadata": {
        "colab": {
          "base_uri": "https://localhost:8080/"
        },
        "id": "LKIiwUCDzGWH",
        "outputId": "0c966703-59b2-4408-f322-ada5c4f9e36b"
      },
      "execution_count": null,
      "outputs": [
        {
          "output_type": "stream",
          "name": "stdout",
          "text": [
            "+----------+----------+----------+----------+----------+----------+----------+----------+----------+----------+----------+----------+----------+----------+--------+--------+--------+---------+---------+---------+---------+---------+---------+---------+---------+--------+\n",
            "|modelMag_u|modelMag_g|modelMag_r|modelMag_i|modelMag_z|fiberMag_u|fiberMag_g|fiberMag_r|fiberMag_i|fiberMag_z|petroR50_r|petroR90_r|petroR50_z|petroR90_z|       r|       i|       z|     mmug|     mmgr|     mmri|     mmiz|     mfug|     mfgr|     mfri|     mfiz|redshift|\n",
            "+----------+----------+----------+----------+----------+----------+----------+----------+----------+----------+----------+----------+----------+----------+--------+--------+--------+---------+---------+---------+---------+---------+---------+---------+---------+--------+\n",
            "|   23.2391|  21.44343|  19.67306|    18.944|  18.55688|  23.69614|  22.34922|  20.59603|  19.86871|  19.45047|  1.306018|  3.220677|  0.761024|  1.247238|19.67306|  18.944|18.55688|22.341265|20.558245| 19.30853| 18.75044| 23.02268|21.472625| 20.23237| 19.65959|       0|\n",
            "|  24.05348|  21.24721|  19.39289|  18.68024|  18.31429|  24.11929|  22.13657|  20.29977|  19.57731|   19.1918|  1.283157|   3.23897| 0.8610912|  1.476514|19.39289|18.68024|18.31429|22.650345| 20.32005|19.036565|18.497265| 23.12793| 21.21817| 19.93854|19.384555|       0|\n",
            "|  26.32478|  20.74059|  18.99681|  18.29084|  17.80812|  25.19303|  21.98622|  20.28767|  19.56692|  19.07019|  1.808711|   4.49769|  1.894718|   4.88474|18.99681|18.29084|17.80812|23.532685|  19.8687|18.643825| 18.04948|23.589625|21.136945|19.927295|19.318555|       0|\n",
            "|  24.76801|  19.32076|  17.81846|  17.23835|  16.92202|  24.11602|  20.81318|  19.32606|  18.72738|  18.40874|  2.504918|  6.343918|  2.128246|  4.517855|17.81846|17.23835|16.92202|22.044385| 18.56961|17.528405|17.080185|  22.4646| 20.06962| 19.02672| 18.56806|       0|\n",
            "|  21.75992|  19.08566|  17.66071|  17.09855|  16.73864|  23.06111|  20.65647|  19.21674|  18.64546|  18.29452|  2.655708|  7.559356|  2.468482|  6.161466|17.66071|17.09855|16.73864| 20.42279|18.373185| 17.37963|16.918595| 21.85879|19.936605|  18.9311| 18.46999|       0|\n",
            "+----------+----------+----------+----------+----------+----------+----------+----------+----------+----------+----------+----------+----------+----------+--------+--------+--------+---------+---------+---------+---------+---------+---------+---------+---------+--------+\n",
            "only showing top 5 rows\n",
            "\n"
          ]
        }
      ]
    },
    {
      "cell_type": "code",
      "source": [
        "from pyspark.sql.functions import monotonically_increasing_id\n",
        "df = df.withColumn(\"objid\", monotonically_increasing_id())\n",
        "df.show(5)"
      ],
      "metadata": {
        "colab": {
          "base_uri": "https://localhost:8080/"
        },
        "id": "FenGlIsMzH6o",
        "outputId": "4a133800-c58a-44e4-f725-412fe3c66671"
      },
      "execution_count": null,
      "outputs": [
        {
          "output_type": "stream",
          "name": "stdout",
          "text": [
            "+----------+----------+----------+----------+----------+----------+----------+----------+----------+----------+----------+----------+----------+----------+--------+--------+--------+---------+---------+---------+---------+---------+---------+---------+---------+--------+-----+\n",
            "|modelMag_u|modelMag_g|modelMag_r|modelMag_i|modelMag_z|fiberMag_u|fiberMag_g|fiberMag_r|fiberMag_i|fiberMag_z|petroR50_r|petroR90_r|petroR50_z|petroR90_z|       r|       i|       z|     mmug|     mmgr|     mmri|     mmiz|     mfug|     mfgr|     mfri|     mfiz|redshift|objid|\n",
            "+----------+----------+----------+----------+----------+----------+----------+----------+----------+----------+----------+----------+----------+----------+--------+--------+--------+---------+---------+---------+---------+---------+---------+---------+---------+--------+-----+\n",
            "|   23.2391|  21.44343|  19.67306|    18.944|  18.55688|  23.69614|  22.34922|  20.59603|  19.86871|  19.45047|  1.306018|  3.220677|  0.761024|  1.247238|19.67306|  18.944|18.55688|22.341265|20.558245| 19.30853| 18.75044| 23.02268|21.472625| 20.23237| 19.65959|       0|    0|\n",
            "|  24.05348|  21.24721|  19.39289|  18.68024|  18.31429|  24.11929|  22.13657|  20.29977|  19.57731|   19.1918|  1.283157|   3.23897| 0.8610912|  1.476514|19.39289|18.68024|18.31429|22.650345| 20.32005|19.036565|18.497265| 23.12793| 21.21817| 19.93854|19.384555|       0|    1|\n",
            "|  26.32478|  20.74059|  18.99681|  18.29084|  17.80812|  25.19303|  21.98622|  20.28767|  19.56692|  19.07019|  1.808711|   4.49769|  1.894718|   4.88474|18.99681|18.29084|17.80812|23.532685|  19.8687|18.643825| 18.04948|23.589625|21.136945|19.927295|19.318555|       0|    2|\n",
            "|  24.76801|  19.32076|  17.81846|  17.23835|  16.92202|  24.11602|  20.81318|  19.32606|  18.72738|  18.40874|  2.504918|  6.343918|  2.128246|  4.517855|17.81846|17.23835|16.92202|22.044385| 18.56961|17.528405|17.080185|  22.4646| 20.06962| 19.02672| 18.56806|       0|    3|\n",
            "|  21.75992|  19.08566|  17.66071|  17.09855|  16.73864|  23.06111|  20.65647|  19.21674|  18.64546|  18.29452|  2.655708|  7.559356|  2.468482|  6.161466|17.66071|17.09855|16.73864| 20.42279|18.373185| 17.37963|16.918595| 21.85879|19.936605|  18.9311| 18.46999|       0|    4|\n",
            "+----------+----------+----------+----------+----------+----------+----------+----------+----------+----------+----------+----------+----------+----------+--------+--------+--------+---------+---------+---------+---------+---------+---------+---------+---------+--------+-----+\n",
            "only showing top 5 rows\n",
            "\n"
          ]
        }
      ]
    },
    {
      "cell_type": "code",
      "source": [
        "from pyspark.ml.feature import VectorAssembler\n",
        "assembler = VectorAssembler(inputCols = ['modelMag_u', 'modelMag_g', 'modelMag_r', 'modelMag_i', 'modelMag_z', 'fiberMag_u', 'fiberMag_g', \n",
        "                                         'fiberMag_r', 'fiberMag_i', 'fiberMag_z', 'petroR50_r', 'petroR90_r', 'petroR50_z', 'petroR90_z', \n",
        "                                         'r', 'i', 'z', 'mmug', 'mmgr', 'mmri', 'mmiz', 'mfug', 'mfgr', 'mfri', 'mfiz'], outputCol = 'features')"
      ],
      "metadata": {
        "id": "AbemAK8yzJeb"
      },
      "execution_count": null,
      "outputs": []
    },
    {
      "cell_type": "code",
      "source": [
        "output = assembler.transform(df)\n",
        "final_df = output.select('features', 'redshift')\n",
        "final_df.show(5)"
      ],
      "metadata": {
        "colab": {
          "base_uri": "https://localhost:8080/"
        },
        "id": "HGYPYv5czmH8",
        "outputId": "e6cc5c8b-819a-4a20-f1e8-a2a4cfdf1ac5"
      },
      "execution_count": null,
      "outputs": [
        {
          "output_type": "stream",
          "name": "stdout",
          "text": [
            "+--------------------+--------+\n",
            "|            features|redshift|\n",
            "+--------------------+--------+\n",
            "|[23.2391,21.44343...|       0|\n",
            "|[24.05348,21.2472...|       0|\n",
            "|[26.32478,20.7405...|       0|\n",
            "|[24.76801,19.3207...|       0|\n",
            "|[21.75992,19.0856...|       0|\n",
            "+--------------------+--------+\n",
            "only showing top 5 rows\n",
            "\n"
          ]
        }
      ]
    },
    {
      "cell_type": "code",
      "source": [
        "train, test = final_df.randomSplit([0.7, 0.3])"
      ],
      "metadata": {
        "id": "me-ZkAszzn4H"
      },
      "execution_count": null,
      "outputs": []
    },
    {
      "cell_type": "code",
      "source": [
        "from pyspark.ml.classification import NaiveBayes\n",
        "from pyspark.ml.tuning import ParamGridBuilder, CrossValidator\n",
        "from pyspark.ml.evaluation import MulticlassClassificationEvaluator"
      ],
      "metadata": {
        "id": "U7PfxdPXzpx8"
      },
      "execution_count": null,
      "outputs": []
    },
    {
      "cell_type": "code",
      "source": [
        "from pyspark.ml import Pipeline\n",
        "nb = NaiveBayes(labelCol=\"redshift\", featuresCol=\"features\")"
      ],
      "metadata": {
        "id": "xvUmb_hRz4oj"
      },
      "execution_count": null,
      "outputs": []
    },
    {
      "cell_type": "code",
      "source": [
        "start_time = time.time()\n",
        "model = nb.fit(train)\n",
        "print(\"%s seconds\" % (time.time() - start_time))"
      ],
      "metadata": {
        "colab": {
          "base_uri": "https://localhost:8080/"
        },
        "id": "uGAnyYxrz8iE",
        "outputId": "14a97e42-6997-4539-ca7d-26e70fd5873d"
      },
      "execution_count": null,
      "outputs": [
        {
          "output_type": "stream",
          "name": "stdout",
          "text": [
            "17.579627752304077 seconds\n"
          ]
        }
      ]
    },
    {
      "cell_type": "code",
      "source": [
        "pred_test = model.transform(test)"
      ],
      "metadata": {
        "id": "-TbRtKAJ0A3D"
      },
      "execution_count": null,
      "outputs": []
    },
    {
      "cell_type": "code",
      "source": [
        "multi_evaluator = MulticlassClassificationEvaluator(labelCol = 'redshift', metricName = 'accuracy')\n",
        "print('Naive Bayes Accu:', multi_evaluator.evaluate(pred_test))"
      ],
      "metadata": {
        "colab": {
          "base_uri": "https://localhost:8080/"
        },
        "id": "R1J6syw00JnY",
        "outputId": "dbfaef12-1c66-47bd-dcb6-ac119acfc39d"
      },
      "execution_count": null,
      "outputs": [
        {
          "output_type": "stream",
          "name": "stdout",
          "text": [
            "Naive Bayes Accu: 0.739647132020115\n"
          ]
        }
      ]
    },
    {
      "cell_type": "code",
      "source": [
        "print('test data (weightedPrecision): ', multi_evaluator.setMetricName('weightedPrecision').evaluate(pred_test))\n",
        "print('test data (weightedRecall): ', multi_evaluator.setMetricName('weightedRecall').evaluate(pred_test))"
      ],
      "metadata": {
        "colab": {
          "base_uri": "https://localhost:8080/"
        },
        "id": "U7ZVh_vb0CgX",
        "outputId": "3879ae08-1626-4a9d-ec3a-aa22868498c6"
      },
      "execution_count": null,
      "outputs": [
        {
          "output_type": "stream",
          "name": "stdout",
          "text": [
            "test data (weightedPrecision):  0.758138603512776\n",
            "test data (weightedRecall):  0.7396471320201149\n"
          ]
        }
      ]
    },
    {
      "cell_type": "markdown",
      "source": [
        "#Cascading"
      ],
      "metadata": {
        "id": "KdUwpoyCghDs"
      }
    },
    {
      "cell_type": "code",
      "source": [
        "final_pred = model.transform(final_df)\n",
        "final_pred.show(5)"
      ],
      "metadata": {
        "colab": {
          "base_uri": "https://localhost:8080/"
        },
        "id": "l_DLTIeKggRN",
        "outputId": "151576a0-4f76-4720-b6c4-9924bf207178"
      },
      "execution_count": null,
      "outputs": [
        {
          "output_type": "stream",
          "name": "stdout",
          "text": [
            "+--------------------+--------+--------------------+--------------------+----------+\n",
            "|            features|redshift|       rawPrediction|         probability|prediction|\n",
            "+--------------------+--------+--------------------+--------------------+----------+\n",
            "|[23.2391,21.44343...|       0|[-1353.4869441199...|[0.51945174049222...|       0.0|\n",
            "|[24.05348,21.2472...|       0|[-1346.2596578174...|[0.63524539210051...|       0.0|\n",
            "|[26.32478,20.7405...|       0|[-1375.1791032793...|[0.99849104288834...|       0.0|\n",
            "|[24.76801,19.3207...|       0|[-1317.5786455591...|[0.99985357602885...|       0.0|\n",
            "|[21.75992,19.0856...|       0|[-1307.0058552724...|[0.99998808941947...|       0.0|\n",
            "+--------------------+--------+--------------------+--------------------+----------+\n",
            "only showing top 5 rows\n",
            "\n"
          ]
        }
      ]
    },
    {
      "cell_type": "code",
      "source": [
        "from pyspark.sql.functions import monotonically_increasing_id\n",
        "final_pred = final_pred.withColumn(\"objid\", monotonically_increasing_id())\n",
        "final_pred.show(5)"
      ],
      "metadata": {
        "id": "12F1s8jg0FSw",
        "colab": {
          "base_uri": "https://localhost:8080/"
        },
        "outputId": "f500e5df-3a0c-497e-bbc1-68cdda45c6eb"
      },
      "execution_count": null,
      "outputs": [
        {
          "output_type": "stream",
          "name": "stdout",
          "text": [
            "+--------------------+--------+--------------------+--------------------+----------+-----+\n",
            "|            features|redshift|       rawPrediction|         probability|prediction|objid|\n",
            "+--------------------+--------+--------------------+--------------------+----------+-----+\n",
            "|[23.2391,21.44343...|       0|[-1353.4869441199...|[0.51945174049222...|       0.0|    0|\n",
            "|[24.05348,21.2472...|       0|[-1346.2596578174...|[0.63524539210051...|       0.0|    1|\n",
            "|[26.32478,20.7405...|       0|[-1375.1791032793...|[0.99849104288834...|       0.0|    2|\n",
            "|[24.76801,19.3207...|       0|[-1317.5786455591...|[0.99985357602885...|       0.0|    3|\n",
            "|[21.75992,19.0856...|       0|[-1307.0058552724...|[0.99998808941947...|       0.0|    4|\n",
            "+--------------------+--------+--------------------+--------------------+----------+-----+\n",
            "only showing top 5 rows\n",
            "\n"
          ]
        }
      ]
    },
    {
      "cell_type": "code",
      "source": [
        "print(df.count(), len(df.columns))\n",
        "new_df = df.join(final_pred, df.objid == final_pred.objid).select(df[\"*\"],final_pred[\"prediction\"])\n",
        "print(df.count(), len(df.columns))\n",
        "new_df.show(5)"
      ],
      "metadata": {
        "colab": {
          "base_uri": "https://localhost:8080/"
        },
        "id": "4qc6KAeBgfp5",
        "outputId": "f2888cd8-f549-4d86-b67a-a3c516463e0f"
      },
      "execution_count": null,
      "outputs": [
        {
          "output_type": "stream",
          "name": "stdout",
          "text": [
            "582231 27\n",
            "582231 27\n",
            "+----------+----------+----------+----------+----------+----------+----------+----------+----------+----------+----------+----------+----------+----------+--------+--------+--------+---------+---------+---------+---------+---------+---------+---------+---------+--------+-----+----------+\n",
            "|modelMag_u|modelMag_g|modelMag_r|modelMag_i|modelMag_z|fiberMag_u|fiberMag_g|fiberMag_r|fiberMag_i|fiberMag_z|petroR50_r|petroR90_r|petroR50_z|petroR90_z|       r|       i|       z|     mmug|     mmgr|     mmri|     mmiz|     mfug|     mfgr|     mfri|     mfiz|redshift|objid|prediction|\n",
            "+----------+----------+----------+----------+----------+----------+----------+----------+----------+----------+----------+----------+----------+----------+--------+--------+--------+---------+---------+---------+---------+---------+---------+---------+---------+--------+-----+----------+\n",
            "|   23.2391|  21.44343|  19.67306|    18.944|  18.55688|  23.69614|  22.34922|  20.59603|  19.86871|  19.45047|  1.306018|  3.220677|  0.761024|  1.247238|19.67306|  18.944|18.55688|22.341265|20.558245| 19.30853| 18.75044| 23.02268|21.472625| 20.23237| 19.65959|       0|    0|       0.0|\n",
            "|  24.05348|  21.24721|  19.39289|  18.68024|  18.31429|  24.11929|  22.13657|  20.29977|  19.57731|   19.1918|  1.283157|   3.23897| 0.8610912|  1.476514|19.39289|18.68024|18.31429|22.650345| 20.32005|19.036565|18.497265| 23.12793| 21.21817| 19.93854|19.384555|       0|    1|       0.0|\n",
            "|  25.42423|  21.60297|  20.11233|  19.32119|  18.86314|  24.75273|  22.28018|  20.82555|   20.0266|  19.63805|  1.160163|  2.318846|  1.359156|  3.341919|20.11233|19.32119|18.86314|  23.5136| 20.85765| 19.71676|19.092165|23.516455|21.552865|20.426075|19.832325|       0|    5|       0.0|\n",
            "|  22.04921|  21.47603|  21.44306|    21.592|  21.38143|  22.29853|  21.75995|   21.6665|  21.65623|  21.25839| 0.6491482|  1.818569| 0.5845705|   1.28551|21.44306|  21.592|21.38143| 21.76262|21.459545| 21.51753|21.486715| 22.02924|21.713225|21.661365| 21.45731|       2|    6|       3.0|\n",
            "|  20.75249|  20.18921|  19.93516|  20.53483|  19.80316|  20.39007|  19.58229|  19.28082|  19.09184|   18.9058| 0.8137896|  1.313514| 0.7727447|  1.266288|19.93516|20.53483|19.80316| 20.47085|20.062185|20.234995|20.168995| 19.98618|19.431555| 19.18633| 18.99882|       0|    7|       3.0|\n",
            "+----------+----------+----------+----------+----------+----------+----------+----------+----------+----------+----------+----------+----------+----------+--------+--------+--------+---------+---------+---------+---------+---------+---------+---------+---------+--------+-----+----------+\n",
            "only showing top 5 rows\n",
            "\n"
          ]
        }
      ]
    },
    {
      "cell_type": "code",
      "source": [
        "assembler = VectorAssembler(inputCols = ['modelMag_u', 'modelMag_g', 'modelMag_r', 'modelMag_i', 'modelMag_z', 'fiberMag_u', 'fiberMag_g', \n",
        "                                         'fiberMag_r', 'fiberMag_i', 'fiberMag_z', 'petroR50_r', 'petroR90_r', 'petroR50_z', 'petroR90_z', \n",
        "                                         'r', 'i', 'z', 'mmug', 'mmgr', 'mmri', 'mmiz', 'mfug', 'mfgr', 'mfri', 'mfiz', 'prediction'], outputCol = 'features2')"
      ],
      "metadata": {
        "id": "aAQ-kfl-h1C9"
      },
      "execution_count": null,
      "outputs": []
    },
    {
      "cell_type": "code",
      "source": [
        "output = assembler.transform(new_df)\n",
        "final_df = output.select('features2', 'redshift')\n",
        "final_df.show(3)"
      ],
      "metadata": {
        "colab": {
          "base_uri": "https://localhost:8080/"
        },
        "id": "lCLpkphFh9KY",
        "outputId": "a8c63f92-8d29-4e70-e4fd-7cc6146c6627"
      },
      "execution_count": null,
      "outputs": [
        {
          "output_type": "stream",
          "name": "stdout",
          "text": [
            "+--------------------+--------+\n",
            "|           features2|redshift|\n",
            "+--------------------+--------+\n",
            "|[23.2391,21.44343...|       0|\n",
            "|[24.05348,21.2472...|       0|\n",
            "|[25.42423,21.6029...|       0|\n",
            "+--------------------+--------+\n",
            "only showing top 3 rows\n",
            "\n"
          ]
        }
      ]
    },
    {
      "cell_type": "code",
      "source": [
        "train, test = final_df.randomSplit([0.7, 0.3])"
      ],
      "metadata": {
        "id": "-i8pUb8hiBBB"
      },
      "execution_count": null,
      "outputs": []
    },
    {
      "cell_type": "code",
      "source": [
        "nb = NaiveBayes(labelCol=\"redshift\", featuresCol=\"features2\")"
      ],
      "metadata": {
        "id": "l0GXZ3h2iE8r"
      },
      "execution_count": null,
      "outputs": []
    },
    {
      "cell_type": "code",
      "source": [
        "start_time = time.time()\n",
        "model = nb.fit(train)\n",
        "print(\"%s seconds\" % (time.time() - start_time))"
      ],
      "metadata": {
        "colab": {
          "base_uri": "https://localhost:8080/"
        },
        "id": "1L6le1G1iHK3",
        "outputId": "1a3425ea-f32f-49c6-ffd8-c01722270f42"
      },
      "execution_count": null,
      "outputs": [
        {
          "output_type": "stream",
          "name": "stdout",
          "text": [
            "35.92470622062683 seconds\n"
          ]
        }
      ]
    },
    {
      "cell_type": "code",
      "source": [
        "pred_test2 = model.transform(test)"
      ],
      "metadata": {
        "id": "yd9SqyLwiahT"
      },
      "execution_count": null,
      "outputs": []
    },
    {
      "cell_type": "code",
      "source": [
        "multi_evaluator = MulticlassClassificationEvaluator(labelCol = 'redshift', metricName = 'accuracy')\n",
        "print('Naive Bayes Accu:', multi_evaluator.evaluate(pred_test2))"
      ],
      "metadata": {
        "colab": {
          "base_uri": "https://localhost:8080/"
        },
        "id": "6i4VCcYGiycZ",
        "outputId": "f2f46d0c-a27a-4f7f-ceee-b80c5ecb0035"
      },
      "execution_count": null,
      "outputs": [
        {
          "output_type": "stream",
          "name": "stdout",
          "text": [
            "Naive Bayes Accu: 0.7394475277064912\n"
          ]
        }
      ]
    },
    {
      "cell_type": "code",
      "source": [
        "print('test data (weightedPrecision): ', multi_evaluator.setMetricName('weightedPrecision').evaluate(pred_test2))\n",
        "print('test data (weightedRecall): ', multi_evaluator.setMetricName('weightedRecall').evaluate(pred_test2))"
      ],
      "metadata": {
        "colab": {
          "base_uri": "https://localhost:8080/"
        },
        "id": "duY7hGWHi2EM",
        "outputId": "51fcf47e-87fc-4e19-9a62-0aceee7e1cea"
      },
      "execution_count": null,
      "outputs": [
        {
          "output_type": "stream",
          "name": "stdout",
          "text": [
            "test data (weightedPrecision):  0.759181322623158\n",
            "test data (weightedRecall):  0.7394475277064912\n"
          ]
        }
      ]
    }
  ]
}