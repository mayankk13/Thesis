{
  "nbformat": 4,
  "nbformat_minor": 0,
  "metadata": {
    "colab": {
      "name": "Multilayer Perceptron.ipynb",
      "provenance": []
    },
    "kernelspec": {
      "name": "python3",
      "display_name": "Python 3"
    },
    "language_info": {
      "name": "python"
    }
  },
  "cells": [
    {
      "cell_type": "code",
      "execution_count": null,
      "metadata": {
        "colab": {
          "base_uri": "https://localhost:8080/"
        },
        "id": "LYIIyoc8jBEW",
        "outputId": "5ab3c204-98ee-435f-f207-de18cdd4a3e2"
      },
      "outputs": [
        {
          "output_type": "stream",
          "name": "stdout",
          "text": [
            "Collecting pyspark\n",
            "  Downloading pyspark-3.2.1.tar.gz (281.4 MB)\n",
            "\u001b[K     |████████████████████████████████| 281.4 MB 34 kB/s \n",
            "\u001b[?25hCollecting py4j==0.10.9.3\n",
            "  Downloading py4j-0.10.9.3-py2.py3-none-any.whl (198 kB)\n",
            "\u001b[K     |████████████████████████████████| 198 kB 46.7 MB/s \n",
            "\u001b[?25hBuilding wheels for collected packages: pyspark\n",
            "  Building wheel for pyspark (setup.py) ... \u001b[?25l\u001b[?25hdone\n",
            "  Created wheel for pyspark: filename=pyspark-3.2.1-py2.py3-none-any.whl size=281853642 sha256=1ae016c953ec2a8782f1e47ae2d955ad2f75984946f9ee3757c5fc8ee474d69b\n",
            "  Stored in directory: /root/.cache/pip/wheels/9f/f5/07/7cd8017084dce4e93e84e92efd1e1d5334db05f2e83bcef74f\n",
            "Successfully built pyspark\n",
            "Installing collected packages: py4j, pyspark\n",
            "Successfully installed py4j-0.10.9.3 pyspark-3.2.1\n"
          ]
        }
      ],
      "source": [
        "!pip install pyspark"
      ]
    },
    {
      "cell_type": "code",
      "source": [
        "from pyspark.ml.classification import MultilayerPerceptronClassifier\n",
        "from pyspark.ml.evaluation import MulticlassClassificationEvaluator"
      ],
      "metadata": {
        "id": "e-xPnFBQjPVr"
      },
      "execution_count": null,
      "outputs": []
    },
    {
      "cell_type": "code",
      "source": [
        "import time\n",
        "from pyspark.sql import SparkSession\n",
        "\n",
        "spark = SparkSession.builder.appName('tree').getOrCreate()\n",
        "df = spark.read.csv('/content/drive/MyDrive/Datasets/Thesis/New Dataset/dr16.csv', inferSchema=True, header=True)\n",
        "df.printSchema()"
      ],
      "metadata": {
        "colab": {
          "base_uri": "https://localhost:8080/"
        },
        "id": "VkJcWedZjRIW",
        "outputId": "887c5782-41e4-4bf4-f923-439ed3834d42"
      },
      "execution_count": null,
      "outputs": [
        {
          "output_type": "stream",
          "name": "stdout",
          "text": [
            "root\n",
            " |-- _c0: integer (nullable = true)\n",
            " |-- Unnamed: 0: integer (nullable = true)\n",
            " |-- modelMag_u: double (nullable = true)\n",
            " |-- modelMag_g: double (nullable = true)\n",
            " |-- modelMag_r: double (nullable = true)\n",
            " |-- modelMag_i: double (nullable = true)\n",
            " |-- modelMag_z: double (nullable = true)\n",
            " |-- fiberMag_u: double (nullable = true)\n",
            " |-- fiberMag_g: double (nullable = true)\n",
            " |-- fiberMag_r: double (nullable = true)\n",
            " |-- fiberMag_i: double (nullable = true)\n",
            " |-- fiberMag_z: double (nullable = true)\n",
            " |-- petroR50_r: double (nullable = true)\n",
            " |-- petroR90_r: double (nullable = true)\n",
            " |-- petroR50_z: double (nullable = true)\n",
            " |-- petroR90_z: double (nullable = true)\n",
            " |-- r: double (nullable = true)\n",
            " |-- i: double (nullable = true)\n",
            " |-- z: double (nullable = true)\n",
            " |-- mmug: double (nullable = true)\n",
            " |-- mmgr: double (nullable = true)\n",
            " |-- mmri: double (nullable = true)\n",
            " |-- mmiz: double (nullable = true)\n",
            " |-- mfug: double (nullable = true)\n",
            " |-- mfgr: double (nullable = true)\n",
            " |-- mfri: double (nullable = true)\n",
            " |-- mfiz: double (nullable = true)\n",
            " |-- redshift: double (nullable = true)\n",
            "\n"
          ]
        }
      ]
    },
    {
      "cell_type": "code",
      "source": [
        "import pyspark.sql.functions as func\n",
        "df = df.withColumn(\"redshift\", func.round(df[\"redshift\"], 2).cast('integer'))\n",
        "df.groupBy('redshift').count().show()"
      ],
      "metadata": {
        "colab": {
          "base_uri": "https://localhost:8080/"
        },
        "id": "1e3Z6fkzjhY0",
        "outputId": "e319a530-ad52-448d-bfea-94f29a67db6e"
      },
      "execution_count": null,
      "outputs": [
        {
          "output_type": "stream",
          "name": "stdout",
          "text": [
            "+--------+------+\n",
            "|redshift| count|\n",
            "+--------+------+\n",
            "|       1| 48930|\n",
            "|       3| 71008|\n",
            "|       2| 31638|\n",
            "|       0|409778|\n",
            "|       6|  5347|\n",
            "|       5|  6185|\n",
            "|       4|  9264|\n",
            "|       7|    81|\n",
            "+--------+------+\n",
            "\n"
          ]
        }
      ]
    },
    {
      "cell_type": "code",
      "source": [
        "df = df.drop('Unnamed: 0', '_c0')\n",
        "df.show(5)"
      ],
      "metadata": {
        "colab": {
          "base_uri": "https://localhost:8080/"
        },
        "id": "TS_AyJB2jyNU",
        "outputId": "e551c6f0-e502-4766-b4b4-a2af9050b524"
      },
      "execution_count": null,
      "outputs": [
        {
          "output_type": "stream",
          "name": "stdout",
          "text": [
            "+----------+----------+----------+----------+----------+----------+----------+----------+----------+----------+----------+----------+----------+----------+--------+--------+--------+---------+---------+---------+---------+---------+---------+---------+---------+--------+\n",
            "|modelMag_u|modelMag_g|modelMag_r|modelMag_i|modelMag_z|fiberMag_u|fiberMag_g|fiberMag_r|fiberMag_i|fiberMag_z|petroR50_r|petroR90_r|petroR50_z|petroR90_z|       r|       i|       z|     mmug|     mmgr|     mmri|     mmiz|     mfug|     mfgr|     mfri|     mfiz|redshift|\n",
            "+----------+----------+----------+----------+----------+----------+----------+----------+----------+----------+----------+----------+----------+----------+--------+--------+--------+---------+---------+---------+---------+---------+---------+---------+---------+--------+\n",
            "|   23.2391|  21.44343|  19.67306|    18.944|  18.55688|  23.69614|  22.34922|  20.59603|  19.86871|  19.45047|  1.306018|  3.220677|  0.761024|  1.247238|19.67306|  18.944|18.55688|22.341265|20.558245| 19.30853| 18.75044| 23.02268|21.472625| 20.23237| 19.65959|       0|\n",
            "|  24.05348|  21.24721|  19.39289|  18.68024|  18.31429|  24.11929|  22.13657|  20.29977|  19.57731|   19.1918|  1.283157|   3.23897| 0.8610912|  1.476514|19.39289|18.68024|18.31429|22.650345| 20.32005|19.036565|18.497265| 23.12793| 21.21817| 19.93854|19.384555|       0|\n",
            "|  26.32478|  20.74059|  18.99681|  18.29084|  17.80812|  25.19303|  21.98622|  20.28767|  19.56692|  19.07019|  1.808711|   4.49769|  1.894718|   4.88474|18.99681|18.29084|17.80812|23.532685|  19.8687|18.643825| 18.04948|23.589625|21.136945|19.927295|19.318555|       0|\n",
            "|  24.76801|  19.32076|  17.81846|  17.23835|  16.92202|  24.11602|  20.81318|  19.32606|  18.72738|  18.40874|  2.504918|  6.343918|  2.128246|  4.517855|17.81846|17.23835|16.92202|22.044385| 18.56961|17.528405|17.080185|  22.4646| 20.06962| 19.02672| 18.56806|       0|\n",
            "|  21.75992|  19.08566|  17.66071|  17.09855|  16.73864|  23.06111|  20.65647|  19.21674|  18.64546|  18.29452|  2.655708|  7.559356|  2.468482|  6.161466|17.66071|17.09855|16.73864| 20.42279|18.373185| 17.37963|16.918595| 21.85879|19.936605|  18.9311| 18.46999|       0|\n",
            "+----------+----------+----------+----------+----------+----------+----------+----------+----------+----------+----------+----------+----------+----------+--------+--------+--------+---------+---------+---------+---------+---------+---------+---------+---------+--------+\n",
            "only showing top 5 rows\n",
            "\n"
          ]
        }
      ]
    },
    {
      "cell_type": "code",
      "source": [
        "from pyspark.sql.functions import monotonically_increasing_id\n",
        "df = df.withColumn(\"objid\", monotonically_increasing_id())\n",
        "df.show(5)"
      ],
      "metadata": {
        "colab": {
          "base_uri": "https://localhost:8080/"
        },
        "id": "laJ2vsoIj0nJ",
        "outputId": "3c710574-e23f-4826-d58e-13fe39a027e9"
      },
      "execution_count": null,
      "outputs": [
        {
          "output_type": "stream",
          "name": "stdout",
          "text": [
            "+----------+----------+----------+----------+----------+----------+----------+----------+----------+----------+----------+----------+----------+----------+--------+--------+--------+---------+---------+---------+---------+---------+---------+---------+---------+--------+-----+\n",
            "|modelMag_u|modelMag_g|modelMag_r|modelMag_i|modelMag_z|fiberMag_u|fiberMag_g|fiberMag_r|fiberMag_i|fiberMag_z|petroR50_r|petroR90_r|petroR50_z|petroR90_z|       r|       i|       z|     mmug|     mmgr|     mmri|     mmiz|     mfug|     mfgr|     mfri|     mfiz|redshift|objid|\n",
            "+----------+----------+----------+----------+----------+----------+----------+----------+----------+----------+----------+----------+----------+----------+--------+--------+--------+---------+---------+---------+---------+---------+---------+---------+---------+--------+-----+\n",
            "|   23.2391|  21.44343|  19.67306|    18.944|  18.55688|  23.69614|  22.34922|  20.59603|  19.86871|  19.45047|  1.306018|  3.220677|  0.761024|  1.247238|19.67306|  18.944|18.55688|22.341265|20.558245| 19.30853| 18.75044| 23.02268|21.472625| 20.23237| 19.65959|       0|    0|\n",
            "|  24.05348|  21.24721|  19.39289|  18.68024|  18.31429|  24.11929|  22.13657|  20.29977|  19.57731|   19.1918|  1.283157|   3.23897| 0.8610912|  1.476514|19.39289|18.68024|18.31429|22.650345| 20.32005|19.036565|18.497265| 23.12793| 21.21817| 19.93854|19.384555|       0|    1|\n",
            "|  26.32478|  20.74059|  18.99681|  18.29084|  17.80812|  25.19303|  21.98622|  20.28767|  19.56692|  19.07019|  1.808711|   4.49769|  1.894718|   4.88474|18.99681|18.29084|17.80812|23.532685|  19.8687|18.643825| 18.04948|23.589625|21.136945|19.927295|19.318555|       0|    2|\n",
            "|  24.76801|  19.32076|  17.81846|  17.23835|  16.92202|  24.11602|  20.81318|  19.32606|  18.72738|  18.40874|  2.504918|  6.343918|  2.128246|  4.517855|17.81846|17.23835|16.92202|22.044385| 18.56961|17.528405|17.080185|  22.4646| 20.06962| 19.02672| 18.56806|       0|    3|\n",
            "|  21.75992|  19.08566|  17.66071|  17.09855|  16.73864|  23.06111|  20.65647|  19.21674|  18.64546|  18.29452|  2.655708|  7.559356|  2.468482|  6.161466|17.66071|17.09855|16.73864| 20.42279|18.373185| 17.37963|16.918595| 21.85879|19.936605|  18.9311| 18.46999|       0|    4|\n",
            "+----------+----------+----------+----------+----------+----------+----------+----------+----------+----------+----------+----------+----------+----------+--------+--------+--------+---------+---------+---------+---------+---------+---------+---------+---------+--------+-----+\n",
            "only showing top 5 rows\n",
            "\n"
          ]
        }
      ]
    },
    {
      "cell_type": "code",
      "source": [
        "from pyspark.ml.feature import VectorAssembler\n",
        "assembler = VectorAssembler(inputCols = ['modelMag_u', 'modelMag_g', 'modelMag_r', 'modelMag_i', 'modelMag_z', 'fiberMag_u', 'fiberMag_g', \n",
        "                                         'fiberMag_r', 'fiberMag_i', 'fiberMag_z', 'petroR50_r', 'petroR90_r', 'petroR50_z', 'petroR90_z', \n",
        "                                         'r', 'i', 'z', 'mmug', 'mmgr', 'mmri', 'mmiz', 'mfug', 'mfgr', 'mfri', 'mfiz'], outputCol = 'features')"
      ],
      "metadata": {
        "id": "8iJ4Wfe-j3hx"
      },
      "execution_count": null,
      "outputs": []
    },
    {
      "cell_type": "code",
      "source": [
        "output = assembler.transform(df)\n",
        "final_df = output.select('features', 'redshift')\n",
        "final_df.show(3)"
      ],
      "metadata": {
        "colab": {
          "base_uri": "https://localhost:8080/"
        },
        "id": "-yzbbCGTkAMj",
        "outputId": "13a5ebfc-4446-4dc0-dcc4-99c65ebab2b6"
      },
      "execution_count": null,
      "outputs": [
        {
          "output_type": "stream",
          "name": "stdout",
          "text": [
            "+--------------------+--------+\n",
            "|            features|redshift|\n",
            "+--------------------+--------+\n",
            "|[23.2391,21.44343...|       0|\n",
            "|[24.05348,21.2472...|       0|\n",
            "|[26.32478,20.7405...|       0|\n",
            "+--------------------+--------+\n",
            "only showing top 3 rows\n",
            "\n"
          ]
        }
      ]
    },
    {
      "cell_type": "code",
      "source": [
        "train, test = final_df.randomSplit([0.7, 0.3])"
      ],
      "metadata": {
        "id": "XecluuSjkE9B"
      },
      "execution_count": null,
      "outputs": []
    },
    {
      "cell_type": "code",
      "source": [
        "layers = [25, 24, 24, 8]"
      ],
      "metadata": {
        "id": "hyKaW2o4kGx8"
      },
      "execution_count": null,
      "outputs": []
    },
    {
      "cell_type": "code",
      "source": [
        "classifier = MultilayerPerceptronClassifier(labelCol='redshift', featuresCol='features', maxIter=100, layers=layers, blockSize=128, seed=1234)"
      ],
      "metadata": {
        "id": "DeaN3qAIkIpt"
      },
      "execution_count": null,
      "outputs": []
    },
    {
      "cell_type": "code",
      "source": [
        "start_time = time.time()\n",
        "model = classifier.fit(train)\n",
        "print(\"%s seconds\" % (time.time() - start_time))"
      ],
      "metadata": {
        "colab": {
          "base_uri": "https://localhost:8080/"
        },
        "id": "caUzupoIkXCn",
        "outputId": "a0f1cd5d-66c5-495d-c757-94d43310b102"
      },
      "execution_count": null,
      "outputs": [
        {
          "output_type": "stream",
          "name": "stdout",
          "text": [
            "130.06255888938904 seconds\n"
          ]
        }
      ]
    },
    {
      "cell_type": "code",
      "source": [
        "result = model.transform(test)"
      ],
      "metadata": {
        "id": "DoB0_xrwkZJK"
      },
      "execution_count": null,
      "outputs": []
    },
    {
      "cell_type": "code",
      "source": [
        "from pyspark.ml.evaluation import MulticlassClassificationEvaluator\n",
        "\n",
        "multi_evaluator = MulticlassClassificationEvaluator(labelCol = 'redshift', metricName = 'accuracy')\n",
        "print('Multilayer Per:', multi_evaluator.evaluate(result))"
      ],
      "metadata": {
        "colab": {
          "base_uri": "https://localhost:8080/"
        },
        "id": "vRtsi5PHlHFs",
        "outputId": "ad8e7efc-15d6-40ec-c20e-731accd55191"
      },
      "execution_count": null,
      "outputs": [
        {
          "output_type": "stream",
          "name": "stdout",
          "text": [
            "Multilayer Per: 0.7920405663333618\n"
          ]
        }
      ]
    },
    {
      "cell_type": "code",
      "source": [
        "print('test data (weightedPrecision): ', multi_evaluator.setMetricName('weightedPrecision').evaluate(result))\n",
        "print('test data (weightedRecall): ', multi_evaluator.setMetricName('weightedRecall').evaluate(result))"
      ],
      "metadata": {
        "colab": {
          "base_uri": "https://localhost:8080/"
        },
        "id": "KJjrRfeLlIrh",
        "outputId": "22104c08-98dc-4f95-e9ce-857d83eca808"
      },
      "execution_count": null,
      "outputs": [
        {
          "output_type": "stream",
          "name": "stdout",
          "text": [
            "test data (weightedPrecision):  0.6869828794561721\n",
            "test data (weightedRecall):  0.7920405663333618\n"
          ]
        }
      ]
    },
    {
      "cell_type": "markdown",
      "source": [
        "#Cascading"
      ],
      "metadata": {
        "id": "9-hgJk0emitM"
      }
    },
    {
      "cell_type": "code",
      "source": [
        "result2 = model.transform(final_df)"
      ],
      "metadata": {
        "id": "B778inyUlcrL"
      },
      "execution_count": null,
      "outputs": []
    },
    {
      "cell_type": "code",
      "source": [
        "result2.show(3)"
      ],
      "metadata": {
        "colab": {
          "base_uri": "https://localhost:8080/"
        },
        "id": "jl-00L8FmovY",
        "outputId": "725769c6-6a5d-48f8-b90b-3b90c9ea69bb"
      },
      "execution_count": null,
      "outputs": [
        {
          "output_type": "stream",
          "name": "stdout",
          "text": [
            "+--------------------+--------+--------------------+--------------------+----------+\n",
            "|            features|redshift|       rawPrediction|         probability|prediction|\n",
            "+--------------------+--------+--------------------+--------------------+----------+\n",
            "|[23.2391,21.44343...|       0|[6.37350090953163...|[0.93283416322037...|       0.0|\n",
            "|[24.05348,21.2472...|       0|[6.20875618697094...|[0.92086308173206...|       0.0|\n",
            "|[26.32478,20.7405...|       0|[6.72043791976690...|[0.95469379232940...|       0.0|\n",
            "+--------------------+--------+--------------------+--------------------+----------+\n",
            "only showing top 3 rows\n",
            "\n"
          ]
        }
      ]
    },
    {
      "cell_type": "code",
      "source": [
        "from pyspark.sql.functions import monotonically_increasing_id\n",
        "df = df.withColumn(\"objid\", monotonically_increasing_id())\n",
        "df.show(5)"
      ],
      "metadata": {
        "colab": {
          "base_uri": "https://localhost:8080/"
        },
        "id": "e1eeDw84mqJb",
        "outputId": "5dfd496c-a900-4d11-965c-c0ae89965f83"
      },
      "execution_count": null,
      "outputs": [
        {
          "output_type": "stream",
          "name": "stdout",
          "text": [
            "+----------+----------+----------+----------+----------+----------+----------+----------+----------+----------+----------+----------+----------+----------+--------+--------+--------+---------+---------+---------+---------+---------+---------+---------+---------+--------+-----+\n",
            "|modelMag_u|modelMag_g|modelMag_r|modelMag_i|modelMag_z|fiberMag_u|fiberMag_g|fiberMag_r|fiberMag_i|fiberMag_z|petroR50_r|petroR90_r|petroR50_z|petroR90_z|       r|       i|       z|     mmug|     mmgr|     mmri|     mmiz|     mfug|     mfgr|     mfri|     mfiz|redshift|objid|\n",
            "+----------+----------+----------+----------+----------+----------+----------+----------+----------+----------+----------+----------+----------+----------+--------+--------+--------+---------+---------+---------+---------+---------+---------+---------+---------+--------+-----+\n",
            "|   23.2391|  21.44343|  19.67306|    18.944|  18.55688|  23.69614|  22.34922|  20.59603|  19.86871|  19.45047|  1.306018|  3.220677|  0.761024|  1.247238|19.67306|  18.944|18.55688|22.341265|20.558245| 19.30853| 18.75044| 23.02268|21.472625| 20.23237| 19.65959|       0|    0|\n",
            "|  24.05348|  21.24721|  19.39289|  18.68024|  18.31429|  24.11929|  22.13657|  20.29977|  19.57731|   19.1918|  1.283157|   3.23897| 0.8610912|  1.476514|19.39289|18.68024|18.31429|22.650345| 20.32005|19.036565|18.497265| 23.12793| 21.21817| 19.93854|19.384555|       0|    1|\n",
            "|  26.32478|  20.74059|  18.99681|  18.29084|  17.80812|  25.19303|  21.98622|  20.28767|  19.56692|  19.07019|  1.808711|   4.49769|  1.894718|   4.88474|18.99681|18.29084|17.80812|23.532685|  19.8687|18.643825| 18.04948|23.589625|21.136945|19.927295|19.318555|       0|    2|\n",
            "|  24.76801|  19.32076|  17.81846|  17.23835|  16.92202|  24.11602|  20.81318|  19.32606|  18.72738|  18.40874|  2.504918|  6.343918|  2.128246|  4.517855|17.81846|17.23835|16.92202|22.044385| 18.56961|17.528405|17.080185|  22.4646| 20.06962| 19.02672| 18.56806|       0|    3|\n",
            "|  21.75992|  19.08566|  17.66071|  17.09855|  16.73864|  23.06111|  20.65647|  19.21674|  18.64546|  18.29452|  2.655708|  7.559356|  2.468482|  6.161466|17.66071|17.09855|16.73864| 20.42279|18.373185| 17.37963|16.918595| 21.85879|19.936605|  18.9311| 18.46999|       0|    4|\n",
            "+----------+----------+----------+----------+----------+----------+----------+----------+----------+----------+----------+----------+----------+----------+--------+--------+--------+---------+---------+---------+---------+---------+---------+---------+---------+--------+-----+\n",
            "only showing top 5 rows\n",
            "\n"
          ]
        }
      ]
    },
    {
      "cell_type": "code",
      "source": [
        "from pyspark.sql.functions import monotonically_increasing_id\n",
        "result2 = result2.withColumn(\"objid\", monotonically_increasing_id())\n",
        "result2.show(3)"
      ],
      "metadata": {
        "colab": {
          "base_uri": "https://localhost:8080/"
        },
        "id": "AGpQuMnAmryY",
        "outputId": "26626dc7-c5dd-4a7a-e437-f785b2aea810"
      },
      "execution_count": null,
      "outputs": [
        {
          "output_type": "stream",
          "name": "stdout",
          "text": [
            "+--------------------+--------+--------------------+--------------------+----------+-----+\n",
            "|            features|redshift|       rawPrediction|         probability|prediction|objid|\n",
            "+--------------------+--------+--------------------+--------------------+----------+-----+\n",
            "|[23.2391,21.44343...|       0|[6.37350090953163...|[0.93283416322037...|       0.0|    0|\n",
            "|[24.05348,21.2472...|       0|[6.20875618697094...|[0.92086308173206...|       0.0|    1|\n",
            "|[26.32478,20.7405...|       0|[6.72043791976690...|[0.95469379232940...|       0.0|    2|\n",
            "+--------------------+--------+--------------------+--------------------+----------+-----+\n",
            "only showing top 3 rows\n",
            "\n"
          ]
        }
      ]
    },
    {
      "cell_type": "code",
      "source": [
        "print(df.count(), len(df.columns))\n",
        "print(result2.count(), len(result2.columns))\n",
        "\n",
        "new_df = df.join(result2, df.objid == result2.objid).select(df[\"*\"],result2[\"prediction\"])\n",
        "#new_df = df.join(dt_predictions, df.objid == dt_predictions.objid)\n",
        "new_df.show(5)"
      ],
      "metadata": {
        "colab": {
          "base_uri": "https://localhost:8080/"
        },
        "id": "Sy0l64vBmyW1",
        "outputId": "d81e295f-7649-41aa-deaf-50e13905c63b"
      },
      "execution_count": null,
      "outputs": [
        {
          "output_type": "stream",
          "name": "stdout",
          "text": [
            "582231 27\n",
            "582231 6\n",
            "+----------+----------+----------+----------+----------+----------+----------+----------+----------+----------+----------+----------+----------+----------+--------+--------+--------+---------+---------+---------+---------+---------+---------+---------+---------+--------+-----+----------+\n",
            "|modelMag_u|modelMag_g|modelMag_r|modelMag_i|modelMag_z|fiberMag_u|fiberMag_g|fiberMag_r|fiberMag_i|fiberMag_z|petroR50_r|petroR90_r|petroR50_z|petroR90_z|       r|       i|       z|     mmug|     mmgr|     mmri|     mmiz|     mfug|     mfgr|     mfri|     mfiz|redshift|objid|prediction|\n",
            "+----------+----------+----------+----------+----------+----------+----------+----------+----------+----------+----------+----------+----------+----------+--------+--------+--------+---------+---------+---------+---------+---------+---------+---------+---------+--------+-----+----------+\n",
            "|   23.2391|  21.44343|  19.67306|    18.944|  18.55688|  23.69614|  22.34922|  20.59603|  19.86871|  19.45047|  1.306018|  3.220677|  0.761024|  1.247238|19.67306|  18.944|18.55688|22.341265|20.558245| 19.30853| 18.75044| 23.02268|21.472625| 20.23237| 19.65959|       0|    0|       0.0|\n",
            "|  24.05348|  21.24721|  19.39289|  18.68024|  18.31429|  24.11929|  22.13657|  20.29977|  19.57731|   19.1918|  1.283157|   3.23897| 0.8610912|  1.476514|19.39289|18.68024|18.31429|22.650345| 20.32005|19.036565|18.497265| 23.12793| 21.21817| 19.93854|19.384555|       0|    1|       0.0|\n",
            "|  25.42423|  21.60297|  20.11233|  19.32119|  18.86314|  24.75273|  22.28018|  20.82555|   20.0266|  19.63805|  1.160163|  2.318846|  1.359156|  3.341919|20.11233|19.32119|18.86314|  23.5136| 20.85765| 19.71676|19.092165|23.516455|21.552865|20.426075|19.832325|       0|    5|       0.0|\n",
            "|  22.04921|  21.47603|  21.44306|    21.592|  21.38143|  22.29853|  21.75995|   21.6665|  21.65623|  21.25839| 0.6491482|  1.818569| 0.5845705|   1.28551|21.44306|  21.592|21.38143| 21.76262|21.459545| 21.51753|21.486715| 22.02924|21.713225|21.661365| 21.45731|       2|    6|       3.0|\n",
            "|  20.75249|  20.18921|  19.93516|  20.53483|  19.80316|  20.39007|  19.58229|  19.28082|  19.09184|   18.9058| 0.8137896|  1.313514| 0.7727447|  1.266288|19.93516|20.53483|19.80316| 20.47085|20.062185|20.234995|20.168995| 19.98618|19.431555| 19.18633| 18.99882|       0|    7|       3.0|\n",
            "+----------+----------+----------+----------+----------+----------+----------+----------+----------+----------+----------+----------+----------+----------+--------+--------+--------+---------+---------+---------+---------+---------+---------+---------+---------+--------+-----+----------+\n",
            "only showing top 5 rows\n",
            "\n"
          ]
        }
      ]
    },
    {
      "cell_type": "code",
      "source": [
        "assembler = VectorAssembler(inputCols = ['modelMag_u', 'modelMag_g', 'modelMag_r', 'modelMag_i', 'modelMag_z', 'fiberMag_u', 'fiberMag_g', \n",
        "                                         'fiberMag_r', 'fiberMag_i', 'fiberMag_z', 'petroR50_r', 'petroR90_r', 'petroR50_z', 'petroR90_z', \n",
        "                                         'r', 'i', 'z', 'mmug', 'mmgr', 'mmri', 'mmiz', 'mfug', 'mfgr', 'mfri', 'mfiz', 'prediction'], outputCol = 'features2')"
      ],
      "metadata": {
        "id": "q1OOD0jdm0h8"
      },
      "execution_count": null,
      "outputs": []
    },
    {
      "cell_type": "code",
      "source": [
        "output = assembler.transform(new_df)\n",
        "final_df = output.select('features2', 'redshift')\n",
        "final_df.show(3)"
      ],
      "metadata": {
        "colab": {
          "base_uri": "https://localhost:8080/"
        },
        "id": "3-CuhOBJm_gt",
        "outputId": "9e65778d-63fe-49fb-97a4-ae7ff912775e"
      },
      "execution_count": null,
      "outputs": [
        {
          "output_type": "stream",
          "name": "stdout",
          "text": [
            "+--------------------+--------+\n",
            "|           features2|redshift|\n",
            "+--------------------+--------+\n",
            "|[23.2391,21.44343...|       0|\n",
            "|[24.05348,21.2472...|       0|\n",
            "|[25.42423,21.6029...|       0|\n",
            "+--------------------+--------+\n",
            "only showing top 3 rows\n",
            "\n"
          ]
        }
      ]
    },
    {
      "cell_type": "code",
      "source": [
        "train, test = final_df.randomSplit([0.7, 0.3])"
      ],
      "metadata": {
        "id": "ZV2qEYC7nBjt"
      },
      "execution_count": null,
      "outputs": []
    },
    {
      "cell_type": "code",
      "source": [
        "layers = [26, 24, 24, 8]"
      ],
      "metadata": {
        "id": "sOJ1qdcNnDt8"
      },
      "execution_count": null,
      "outputs": []
    },
    {
      "cell_type": "code",
      "source": [
        "classifier2 = MultilayerPerceptronClassifier(labelCol='redshift', featuresCol='features2', maxIter=100, layers=layers, blockSize=128, seed=1234)"
      ],
      "metadata": {
        "id": "3zg3zurnnFPS"
      },
      "execution_count": null,
      "outputs": []
    },
    {
      "cell_type": "code",
      "source": [
        "model2 = classifier2.fit(train)"
      ],
      "metadata": {
        "id": "kJGkqxwAnHSw"
      },
      "execution_count": null,
      "outputs": []
    },
    {
      "cell_type": "code",
      "source": [
        "result2 = model2.transform(test)"
      ],
      "metadata": {
        "id": "V0WKwFGPnLzH"
      },
      "execution_count": null,
      "outputs": []
    },
    {
      "cell_type": "code",
      "source": [
        "from pyspark.ml.evaluation import MulticlassClassificationEvaluator\n",
        "\n",
        "multi_evaluator = MulticlassClassificationEvaluator(labelCol = 'redshift', metricName = 'accuracy')\n",
        "print('Decision Tree Accu:', multi_evaluator.evaluate(result2))"
      ],
      "metadata": {
        "colab": {
          "base_uri": "https://localhost:8080/"
        },
        "id": "b_X6JVTooFX0",
        "outputId": "d410324d-de63-4d36-bdb9-665cb34e949d"
      },
      "execution_count": null,
      "outputs": [
        {
          "output_type": "stream",
          "name": "stdout",
          "text": [
            "Decision Tree Accu: 0.7838357958592799\n"
          ]
        }
      ]
    },
    {
      "cell_type": "code",
      "source": [
        "print('test data (weightedPrecision): ', multi_evaluator.setMetricName('weightedPrecision').evaluate(result2))\n",
        "print('test data (weightedRecall): ', multi_evaluator.setMetricName('weightedRecall').evaluate(result2))"
      ],
      "metadata": {
        "colab": {
          "base_uri": "https://localhost:8080/"
        },
        "id": "yaK_5XzsoZ7l",
        "outputId": "d6645b9f-0731-45a9-9096-fbd83ba57732"
      },
      "execution_count": null,
      "outputs": [
        {
          "output_type": "stream",
          "name": "stdout",
          "text": [
            "test data (weightedPrecision):  0.746541651719919\n",
            "test data (weightedRecall):  0.7838357958592798\n"
          ]
        }
      ]
    }
  ]
}